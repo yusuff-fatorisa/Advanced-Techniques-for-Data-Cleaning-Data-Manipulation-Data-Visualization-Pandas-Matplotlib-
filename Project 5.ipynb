{
 "cells": [
  {
   "cell_type": "markdown",
   "metadata": {},
   "source": [
    "### Hello,  welcome to another lesson. This is  all about sharing my process of growth this career path. And I'm all excited about it.\n",
    "\n",
    "### Python is an amazing programming language and vast number of packages/libraries it has makes it even more exciting.\n",
    "\n",
    "\n",
    "### So, once again, i implore you to be encouraged by what you're doing on this path, even if it means doing it poorly till you gain mastery over it.\n",
    "\n",
    "### It will come more naturally as you do it, more consistently.\n",
    "\n",
    "### I'm just all excited about it all, so\n",
    "# Let's get started !!!\n"
   ]
  },
  {
   "cell_type": "markdown",
   "metadata": {},
   "source": [
    "### This lesson will be mostly about bringing your Learnings in the previous lessons together. And also, you'll be introduced to advanced techniques to make working with Data more efficiently.\n",
    "\n",
    "### Data extraction (which you'll find yourself doing, almost all of the time) will also be introduced."
   ]
  },
  {
   "cell_type": "markdown",
   "metadata": {},
   "source": [
    "### Just do well to follow along with the examples and do it on your own, as well.\n",
    "\n",
    "### A better way to learn is by doing. So roll your sleeves up and get your hands in motion"
   ]
  },
  {
   "cell_type": "markdown",
   "metadata": {},
   "source": [
    "### The first step is to import all the libraries you need using the standard convention.\n",
    "\n",
    "### And remember to include \"%matplotlib inline\", so your plottings can display without additional effort. Failure to do this means you have to input \"plt.show\" after any plot for it to be displayed\n",
    "\n",
    "### The dataset is an excel file gotten from the \"WHO\" website and is readily available online for the public"
   ]
  },
  {
   "cell_type": "markdown",
   "metadata": {},
   "source": [
    "## Loading the excel file that contains the dataset and reading it the first 5 values directly from it"
   ]
  },
  {
   "cell_type": "code",
   "execution_count": 1,
   "metadata": {},
   "outputs": [],
   "source": [
    "import numpy as np\n",
    "import pandas as pd\n",
    "import matplotlib.pyplot as plt\n",
    "%matplotlib inline"
   ]
  },
  {
   "cell_type": "code",
   "execution_count": 2,
   "metadata": {
    "scrolled": false
   },
   "outputs": [
    {
     "data": {
      "text/html": [
       "<div>\n",
       "<style scoped>\n",
       "    .dataframe tbody tr th:only-of-type {\n",
       "        vertical-align: middle;\n",
       "    }\n",
       "\n",
       "    .dataframe tbody tr th {\n",
       "        vertical-align: top;\n",
       "    }\n",
       "\n",
       "    .dataframe thead th {\n",
       "        text-align: right;\n",
       "    }\n",
       "</style>\n",
       "<table border=\"1\" class=\"dataframe\">\n",
       "  <thead>\n",
       "    <tr style=\"text-align: right;\">\n",
       "      <th></th>\n",
       "      <th>iso2</th>\n",
       "      <th>iso3</th>\n",
       "      <th>iso_numeric</th>\n",
       "      <th>g_whoregion</th>\n",
       "      <th>year</th>\n",
       "      <th>bmu</th>\n",
       "      <th>bmu_community_impl</th>\n",
       "      <th>community_data_available</th>\n",
       "      <th>bmu_ref_data</th>\n",
       "      <th>notified_ref</th>\n",
       "      <th>notified_ref_community</th>\n",
       "      <th>bmu_rxsupport_data</th>\n",
       "      <th>bmu_rxsupport_data_coh</th>\n",
       "      <th>rxsupport_community_coh</th>\n",
       "      <th>rxsupport_community_succ</th>\n",
       "    </tr>\n",
       "    <tr>\n",
       "      <th>country</th>\n",
       "      <th></th>\n",
       "      <th></th>\n",
       "      <th></th>\n",
       "      <th></th>\n",
       "      <th></th>\n",
       "      <th></th>\n",
       "      <th></th>\n",
       "      <th></th>\n",
       "      <th></th>\n",
       "      <th></th>\n",
       "      <th></th>\n",
       "      <th></th>\n",
       "      <th></th>\n",
       "      <th></th>\n",
       "      <th></th>\n",
       "    </tr>\n",
       "  </thead>\n",
       "  <tbody>\n",
       "    <tr>\n",
       "      <td>Afghanistan</td>\n",
       "      <td>AF</td>\n",
       "      <td>AFG</td>\n",
       "      <td>4</td>\n",
       "      <td>EMR</td>\n",
       "      <td>2013</td>\n",
       "      <td>423.885246</td>\n",
       "      <td>232.037879</td>\n",
       "      <td>0.549296</td>\n",
       "      <td>235.109489</td>\n",
       "      <td>40706.675277</td>\n",
       "      <td>7182.249012</td>\n",
       "      <td>661.0</td>\n",
       "      <td>63441.1133</td>\n",
       "      <td>1089.0</td>\n",
       "      <td>991.000000</td>\n",
       "    </tr>\n",
       "    <tr>\n",
       "      <td>Afghanistan</td>\n",
       "      <td>AF</td>\n",
       "      <td>AFG</td>\n",
       "      <td>4</td>\n",
       "      <td>EMR</td>\n",
       "      <td>2014</td>\n",
       "      <td>722.000000</td>\n",
       "      <td>232.037879</td>\n",
       "      <td>0.549296</td>\n",
       "      <td>661.000000</td>\n",
       "      <td>15946.000000</td>\n",
       "      <td>1088.000000</td>\n",
       "      <td>506.0</td>\n",
       "      <td>811.0000</td>\n",
       "      <td>811.0</td>\n",
       "      <td>811.000000</td>\n",
       "    </tr>\n",
       "    <tr>\n",
       "      <td>Afghanistan</td>\n",
       "      <td>AF</td>\n",
       "      <td>AFG</td>\n",
       "      <td>4</td>\n",
       "      <td>EMR</td>\n",
       "      <td>2015</td>\n",
       "      <td>708.000000</td>\n",
       "      <td>539.000000</td>\n",
       "      <td>1.000000</td>\n",
       "      <td>539.000000</td>\n",
       "      <td>35878.000000</td>\n",
       "      <td>1146.000000</td>\n",
       "      <td>750.0</td>\n",
       "      <td>37001.0000</td>\n",
       "      <td>877.0</td>\n",
       "      <td>875.000000</td>\n",
       "    </tr>\n",
       "    <tr>\n",
       "      <td>Afghanistan</td>\n",
       "      <td>AF</td>\n",
       "      <td>AFG</td>\n",
       "      <td>4</td>\n",
       "      <td>EMR</td>\n",
       "      <td>2016</td>\n",
       "      <td>778.000000</td>\n",
       "      <td>778.000000</td>\n",
       "      <td>1.000000</td>\n",
       "      <td>778.000000</td>\n",
       "      <td>19710.000000</td>\n",
       "      <td>1857.000000</td>\n",
       "      <td>778.0</td>\n",
       "      <td>43046.0000</td>\n",
       "      <td>1943.0</td>\n",
       "      <td>1803.000000</td>\n",
       "    </tr>\n",
       "    <tr>\n",
       "      <td>Afghanistan</td>\n",
       "      <td>AF</td>\n",
       "      <td>AFG</td>\n",
       "      <td>4</td>\n",
       "      <td>EMR</td>\n",
       "      <td>2017</td>\n",
       "      <td>817.000000</td>\n",
       "      <td>817.000000</td>\n",
       "      <td>1.000000</td>\n",
       "      <td>817.000000</td>\n",
       "      <td>47406.000000</td>\n",
       "      <td>5214.000000</td>\n",
       "      <td>778.0</td>\n",
       "      <td>46640.0000</td>\n",
       "      <td>4123.0</td>\n",
       "      <td>29002.339806</td>\n",
       "    </tr>\n",
       "  </tbody>\n",
       "</table>\n",
       "</div>"
      ],
      "text/plain": [
       "            iso2 iso3  iso_numeric g_whoregion  year         bmu  \\\n",
       "country                                                            \n",
       "Afghanistan   AF  AFG            4         EMR  2013  423.885246   \n",
       "Afghanistan   AF  AFG            4         EMR  2014  722.000000   \n",
       "Afghanistan   AF  AFG            4         EMR  2015  708.000000   \n",
       "Afghanistan   AF  AFG            4         EMR  2016  778.000000   \n",
       "Afghanistan   AF  AFG            4         EMR  2017  817.000000   \n",
       "\n",
       "             bmu_community_impl  community_data_available  bmu_ref_data  \\\n",
       "country                                                                   \n",
       "Afghanistan          232.037879                  0.549296    235.109489   \n",
       "Afghanistan          232.037879                  0.549296    661.000000   \n",
       "Afghanistan          539.000000                  1.000000    539.000000   \n",
       "Afghanistan          778.000000                  1.000000    778.000000   \n",
       "Afghanistan          817.000000                  1.000000    817.000000   \n",
       "\n",
       "             notified_ref  notified_ref_community  bmu_rxsupport_data  \\\n",
       "country                                                                 \n",
       "Afghanistan  40706.675277             7182.249012               661.0   \n",
       "Afghanistan  15946.000000             1088.000000               506.0   \n",
       "Afghanistan  35878.000000             1146.000000               750.0   \n",
       "Afghanistan  19710.000000             1857.000000               778.0   \n",
       "Afghanistan  47406.000000             5214.000000               778.0   \n",
       "\n",
       "             bmu_rxsupport_data_coh  rxsupport_community_coh  \\\n",
       "country                                                        \n",
       "Afghanistan              63441.1133                   1089.0   \n",
       "Afghanistan                811.0000                    811.0   \n",
       "Afghanistan              37001.0000                    877.0   \n",
       "Afghanistan              43046.0000                   1943.0   \n",
       "Afghanistan              46640.0000                   4123.0   \n",
       "\n",
       "             rxsupport_community_succ  \n",
       "country                                \n",
       "Afghanistan                991.000000  \n",
       "Afghanistan                811.000000  \n",
       "Afghanistan                875.000000  \n",
       "Afghanistan               1803.000000  \n",
       "Afghanistan              29002.339806  "
      ]
     },
     "execution_count": 2,
     "metadata": {},
     "output_type": "execute_result"
    }
   ],
   "source": [
    "dataset = pd.read_excel(\"TB Comm_Engage.xlsx\", index_col = 0, parse_date = \"year\")\n",
    "dataset.head()"
   ]
  },
  {
   "cell_type": "markdown",
   "metadata": {},
   "source": [
    "#### Checking the shape of the DataFrame"
   ]
  },
  {
   "cell_type": "code",
   "execution_count": 3,
   "metadata": {
    "scrolled": false
   },
   "outputs": [
    {
     "data": {
      "text/plain": [
       "(558, 15)"
      ]
     },
     "execution_count": 3,
     "metadata": {},
     "output_type": "execute_result"
    }
   ],
   "source": [
    "dataset.shape"
   ]
  },
  {
   "cell_type": "markdown",
   "metadata": {},
   "source": [
    "#### Checking the size of the DataFrame"
   ]
  },
  {
   "cell_type": "code",
   "execution_count": 4,
   "metadata": {
    "scrolled": true
   },
   "outputs": [
    {
     "data": {
      "text/plain": [
       "8370"
      ]
     },
     "execution_count": 4,
     "metadata": {},
     "output_type": "execute_result"
    }
   ],
   "source": [
    "dataset.size"
   ]
  },
  {
   "cell_type": "markdown",
   "metadata": {},
   "source": [
    "#### Checking the various types of data types present in the DataFrame"
   ]
  },
  {
   "cell_type": "code",
   "execution_count": 5,
   "metadata": {
    "scrolled": true
   },
   "outputs": [
    {
     "data": {
      "text/plain": [
       "iso2                         object\n",
       "iso3                         object\n",
       "iso_numeric                   int64\n",
       "g_whoregion                  object\n",
       "year                          int64\n",
       "bmu                         float64\n",
       "bmu_community_impl          float64\n",
       "community_data_available    float64\n",
       "bmu_ref_data                float64\n",
       "notified_ref                float64\n",
       "notified_ref_community      float64\n",
       "bmu_rxsupport_data          float64\n",
       "bmu_rxsupport_data_coh      float64\n",
       "rxsupport_community_coh     float64\n",
       "rxsupport_community_succ    float64\n",
       "dtype: object"
      ]
     },
     "execution_count": 5,
     "metadata": {},
     "output_type": "execute_result"
    }
   ],
   "source": [
    "dataset.dtypes"
   ]
  },
  {
   "cell_type": "markdown",
   "metadata": {},
   "source": [
    "#### Checking the indexes of the DataFrame"
   ]
  },
  {
   "cell_type": "code",
   "execution_count": 6,
   "metadata": {
    "scrolled": true
   },
   "outputs": [
    {
     "data": {
      "text/plain": [
       "Index(['Afghanistan', 'Afghanistan', 'Afghanistan', 'Afghanistan',\n",
       "       'Afghanistan', 'Afghanistan', 'Albania', 'Albania', 'Algeria',\n",
       "       'Algeria',\n",
       "       ...\n",
       "       'Zambia', 'Zambia', 'Zambia', 'Zambia', 'Zimbabwe', 'Zimbabwe',\n",
       "       'Zimbabwe', 'Zimbabwe', 'Zimbabwe', 'Zimbabwe'],\n",
       "      dtype='object', name='country', length=558)"
      ]
     },
     "execution_count": 6,
     "metadata": {},
     "output_type": "execute_result"
    }
   ],
   "source": [
    "dataset.index"
   ]
  },
  {
   "cell_type": "markdown",
   "metadata": {},
   "source": [
    "#### Checking the columns of the DataFrame"
   ]
  },
  {
   "cell_type": "code",
   "execution_count": 7,
   "metadata": {},
   "outputs": [
    {
     "data": {
      "text/plain": [
       "Index(['iso2', 'iso3', 'iso_numeric', 'g_whoregion', 'year', 'bmu',\n",
       "       'bmu_community_impl', 'community_data_available', 'bmu_ref_data',\n",
       "       'notified_ref', 'notified_ref_community', 'bmu_rxsupport_data',\n",
       "       'bmu_rxsupport_data_coh', 'rxsupport_community_coh',\n",
       "       'rxsupport_community_succ'],\n",
       "      dtype='object')"
      ]
     },
     "execution_count": 7,
     "metadata": {},
     "output_type": "execute_result"
    }
   ],
   "source": [
    "dataset.columns"
   ]
  },
  {
   "cell_type": "markdown",
   "metadata": {},
   "source": [
    "#### Checking the general info of the DataFrame"
   ]
  },
  {
   "cell_type": "code",
   "execution_count": 8,
   "metadata": {
    "scrolled": true
   },
   "outputs": [
    {
     "name": "stdout",
     "output_type": "stream",
     "text": [
      "<class 'pandas.core.frame.DataFrame'>\n",
      "Index: 558 entries, Afghanistan to Zimbabwe\n",
      "Data columns (total 15 columns):\n",
      "iso2                        558 non-null object\n",
      "iso3                        558 non-null object\n",
      "iso_numeric                 558 non-null int64\n",
      "g_whoregion                 558 non-null object\n",
      "year                        558 non-null int64\n",
      "bmu                         558 non-null float64\n",
      "bmu_community_impl          558 non-null float64\n",
      "community_data_available    558 non-null float64\n",
      "bmu_ref_data                558 non-null float64\n",
      "notified_ref                558 non-null float64\n",
      "notified_ref_community      558 non-null float64\n",
      "bmu_rxsupport_data          558 non-null float64\n",
      "bmu_rxsupport_data_coh      558 non-null float64\n",
      "rxsupport_community_coh     558 non-null float64\n",
      "rxsupport_community_succ    558 non-null float64\n",
      "dtypes: float64(10), int64(2), object(3)\n",
      "memory usage: 61.0+ KB\n"
     ]
    }
   ],
   "source": [
    "dataset.info()"
   ]
  },
  {
   "cell_type": "markdown",
   "metadata": {},
   "source": [
    "#### Checking summarized aggregated statistics of the DataFrame"
   ]
  },
  {
   "cell_type": "code",
   "execution_count": 9,
   "metadata": {
    "scrolled": true
   },
   "outputs": [
    {
     "data": {
      "text/html": [
       "<div>\n",
       "<style scoped>\n",
       "    .dataframe tbody tr th:only-of-type {\n",
       "        vertical-align: middle;\n",
       "    }\n",
       "\n",
       "    .dataframe tbody tr th {\n",
       "        vertical-align: top;\n",
       "    }\n",
       "\n",
       "    .dataframe thead th {\n",
       "        text-align: right;\n",
       "    }\n",
       "</style>\n",
       "<table border=\"1\" class=\"dataframe\">\n",
       "  <thead>\n",
       "    <tr style=\"text-align: right;\">\n",
       "      <th></th>\n",
       "      <th>iso_numeric</th>\n",
       "      <th>year</th>\n",
       "      <th>bmu</th>\n",
       "      <th>bmu_community_impl</th>\n",
       "      <th>community_data_available</th>\n",
       "      <th>bmu_ref_data</th>\n",
       "      <th>notified_ref</th>\n",
       "      <th>notified_ref_community</th>\n",
       "      <th>bmu_rxsupport_data</th>\n",
       "      <th>bmu_rxsupport_data_coh</th>\n",
       "      <th>rxsupport_community_coh</th>\n",
       "      <th>rxsupport_community_succ</th>\n",
       "    </tr>\n",
       "  </thead>\n",
       "  <tbody>\n",
       "    <tr>\n",
       "      <td>count</td>\n",
       "      <td>558.000000</td>\n",
       "      <td>558.000000</td>\n",
       "      <td>558.000000</td>\n",
       "      <td>558.000000</td>\n",
       "      <td>558.000000</td>\n",
       "      <td>558.000000</td>\n",
       "      <td>558.000000</td>\n",
       "      <td>558.000000</td>\n",
       "      <td>558.000000</td>\n",
       "      <td>5.580000e+02</td>\n",
       "      <td>558.000000</td>\n",
       "      <td>558.000000</td>\n",
       "    </tr>\n",
       "    <tr>\n",
       "      <td>mean</td>\n",
       "      <td>435.387097</td>\n",
       "      <td>2015.824373</td>\n",
       "      <td>423.885246</td>\n",
       "      <td>232.037879</td>\n",
       "      <td>0.549296</td>\n",
       "      <td>235.109489</td>\n",
       "      <td>40706.675277</td>\n",
       "      <td>7182.249012</td>\n",
       "      <td>297.073077</td>\n",
       "      <td>6.344111e+04</td>\n",
       "      <td>30194.145161</td>\n",
       "      <td>29002.339806</td>\n",
       "    </tr>\n",
       "    <tr>\n",
       "      <td>std</td>\n",
       "      <td>254.444353</td>\n",
       "      <td>1.557278</td>\n",
       "      <td>1025.580114</td>\n",
       "      <td>586.414187</td>\n",
       "      <td>0.435137</td>\n",
       "      <td>342.998607</td>\n",
       "      <td>68396.183520</td>\n",
       "      <td>11356.906715</td>\n",
       "      <td>560.306190</td>\n",
       "      <td>1.531440e+05</td>\n",
       "      <td>75296.353613</td>\n",
       "      <td>60548.638313</td>\n",
       "    </tr>\n",
       "    <tr>\n",
       "      <td>min</td>\n",
       "      <td>4.000000</td>\n",
       "      <td>2013.000000</td>\n",
       "      <td>0.000000</td>\n",
       "      <td>0.000000</td>\n",
       "      <td>0.000000</td>\n",
       "      <td>0.000000</td>\n",
       "      <td>0.000000</td>\n",
       "      <td>0.000000</td>\n",
       "      <td>0.000000</td>\n",
       "      <td>0.000000e+00</td>\n",
       "      <td>0.000000</td>\n",
       "      <td>0.000000</td>\n",
       "    </tr>\n",
       "    <tr>\n",
       "      <td>25%</td>\n",
       "      <td>218.000000</td>\n",
       "      <td>2015.000000</td>\n",
       "      <td>30.000000</td>\n",
       "      <td>18.000000</td>\n",
       "      <td>0.000000</td>\n",
       "      <td>63.000000</td>\n",
       "      <td>7373.500000</td>\n",
       "      <td>1062.500000</td>\n",
       "      <td>57.750000</td>\n",
       "      <td>1.615525e+04</td>\n",
       "      <td>2786.500000</td>\n",
       "      <td>4861.500000</td>\n",
       "    </tr>\n",
       "    <tr>\n",
       "      <td>50%</td>\n",
       "      <td>430.000000</td>\n",
       "      <td>2016.000000</td>\n",
       "      <td>128.000000</td>\n",
       "      <td>125.500000</td>\n",
       "      <td>0.549296</td>\n",
       "      <td>235.109489</td>\n",
       "      <td>40706.675277</td>\n",
       "      <td>7182.249012</td>\n",
       "      <td>297.073077</td>\n",
       "      <td>6.344111e+04</td>\n",
       "      <td>30194.145161</td>\n",
       "      <td>29002.339806</td>\n",
       "    </tr>\n",
       "    <tr>\n",
       "      <td>75%</td>\n",
       "      <td>645.250000</td>\n",
       "      <td>2017.000000</td>\n",
       "      <td>423.885246</td>\n",
       "      <td>232.037879</td>\n",
       "      <td>1.000000</td>\n",
       "      <td>235.109489</td>\n",
       "      <td>40706.675277</td>\n",
       "      <td>7182.249012</td>\n",
       "      <td>297.073077</td>\n",
       "      <td>6.344111e+04</td>\n",
       "      <td>30194.145161</td>\n",
       "      <td>29002.339806</td>\n",
       "    </tr>\n",
       "    <tr>\n",
       "      <td>max</td>\n",
       "      <td>894.000000</td>\n",
       "      <td>2018.000000</td>\n",
       "      <td>9746.000000</td>\n",
       "      <td>6819.000000</td>\n",
       "      <td>1.000000</td>\n",
       "      <td>4278.000000</td>\n",
       "      <td>687911.000000</td>\n",
       "      <td>123895.000000</td>\n",
       "      <td>6018.000000</td>\n",
       "      <td>1.983615e+06</td>\n",
       "      <td>803446.000000</td>\n",
       "      <td>655101.000000</td>\n",
       "    </tr>\n",
       "  </tbody>\n",
       "</table>\n",
       "</div>"
      ],
      "text/plain": [
       "       iso_numeric         year          bmu  bmu_community_impl  \\\n",
       "count   558.000000   558.000000   558.000000          558.000000   \n",
       "mean    435.387097  2015.824373   423.885246          232.037879   \n",
       "std     254.444353     1.557278  1025.580114          586.414187   \n",
       "min       4.000000  2013.000000     0.000000            0.000000   \n",
       "25%     218.000000  2015.000000    30.000000           18.000000   \n",
       "50%     430.000000  2016.000000   128.000000          125.500000   \n",
       "75%     645.250000  2017.000000   423.885246          232.037879   \n",
       "max     894.000000  2018.000000  9746.000000         6819.000000   \n",
       "\n",
       "       community_data_available  bmu_ref_data   notified_ref  \\\n",
       "count                558.000000    558.000000     558.000000   \n",
       "mean                   0.549296    235.109489   40706.675277   \n",
       "std                    0.435137    342.998607   68396.183520   \n",
       "min                    0.000000      0.000000       0.000000   \n",
       "25%                    0.000000     63.000000    7373.500000   \n",
       "50%                    0.549296    235.109489   40706.675277   \n",
       "75%                    1.000000    235.109489   40706.675277   \n",
       "max                    1.000000   4278.000000  687911.000000   \n",
       "\n",
       "       notified_ref_community  bmu_rxsupport_data  bmu_rxsupport_data_coh  \\\n",
       "count              558.000000          558.000000            5.580000e+02   \n",
       "mean              7182.249012          297.073077            6.344111e+04   \n",
       "std              11356.906715          560.306190            1.531440e+05   \n",
       "min                  0.000000            0.000000            0.000000e+00   \n",
       "25%               1062.500000           57.750000            1.615525e+04   \n",
       "50%               7182.249012          297.073077            6.344111e+04   \n",
       "75%               7182.249012          297.073077            6.344111e+04   \n",
       "max             123895.000000         6018.000000            1.983615e+06   \n",
       "\n",
       "       rxsupport_community_coh  rxsupport_community_succ  \n",
       "count               558.000000                558.000000  \n",
       "mean              30194.145161              29002.339806  \n",
       "std               75296.353613              60548.638313  \n",
       "min                   0.000000                  0.000000  \n",
       "25%                2786.500000               4861.500000  \n",
       "50%               30194.145161              29002.339806  \n",
       "75%               30194.145161              29002.339806  \n",
       "max              803446.000000             655101.000000  "
      ]
     },
     "execution_count": 9,
     "metadata": {},
     "output_type": "execute_result"
    }
   ],
   "source": [
    "dataset.describe()"
   ]
  },
  {
   "cell_type": "markdown",
   "metadata": {},
   "source": [
    "### Checking for null values in the Dataset"
   ]
  },
  {
   "cell_type": "code",
   "execution_count": 10,
   "metadata": {},
   "outputs": [
    {
     "data": {
      "text/plain": [
       "iso2                        0\n",
       "iso3                        0\n",
       "iso_numeric                 0\n",
       "g_whoregion                 0\n",
       "year                        0\n",
       "bmu                         0\n",
       "bmu_community_impl          0\n",
       "community_data_available    0\n",
       "bmu_ref_data                0\n",
       "notified_ref                0\n",
       "notified_ref_community      0\n",
       "bmu_rxsupport_data          0\n",
       "bmu_rxsupport_data_coh      0\n",
       "rxsupport_community_coh     0\n",
       "rxsupport_community_succ    0\n",
       "dtype: int64"
      ]
     },
     "execution_count": 10,
     "metadata": {},
     "output_type": "execute_result"
    }
   ],
   "source": [
    "dataset.isna().sum()"
   ]
  },
  {
   "cell_type": "code",
   "execution_count": 11,
   "metadata": {
    "scrolled": true
   },
   "outputs": [
    {
     "data": {
      "text/plain": [
       "iso2                        558\n",
       "iso3                        558\n",
       "iso_numeric                 558\n",
       "g_whoregion                 558\n",
       "year                        558\n",
       "bmu                         558\n",
       "bmu_community_impl          558\n",
       "community_data_available    558\n",
       "bmu_ref_data                558\n",
       "notified_ref                558\n",
       "notified_ref_community      558\n",
       "bmu_rxsupport_data          558\n",
       "bmu_rxsupport_data_coh      558\n",
       "rxsupport_community_coh     558\n",
       "rxsupport_community_succ    558\n",
       "dtype: int64"
      ]
     },
     "execution_count": 11,
     "metadata": {},
     "output_type": "execute_result"
    }
   ],
   "source": [
    "dataset.notna().sum()"
   ]
  },
  {
   "cell_type": "markdown",
   "metadata": {},
   "source": [
    "### There are no null values in the Dataset. Note that's this is as a result of the fact that I'm working with a version of the file that I've worked with and cleaned before now.\n",
    "\n",
    "\n",
    "### If you get your own version online, it'll be in the raw form and you'll have to clean, prepare manipulate it before bit can be ready for further exploration and analysis"
   ]
  },
  {
   "cell_type": "markdown",
   "metadata": {},
   "source": [
    "### Now, you need to check the dataset for duplicated values in the DataFrame"
   ]
  },
  {
   "cell_type": "code",
   "execution_count": 12,
   "metadata": {},
   "outputs": [
    {
     "data": {
      "text/plain": [
       "0"
      ]
     },
     "execution_count": 12,
     "metadata": {},
     "output_type": "execute_result"
    }
   ],
   "source": [
    "dataset.duplicated().sum()"
   ]
  },
  {
   "cell_type": "markdown",
   "metadata": {},
   "source": [
    "### There are no duplicated values in the dataset, and that's makes your tasks faster and easier. Your next line of action is to begin exploration, visualization and representation of  the required insights from the Dataset"
   ]
  },
  {
   "cell_type": "code",
   "execution_count": 13,
   "metadata": {},
   "outputs": [
    {
     "data": {
      "text/html": [
       "<div>\n",
       "<style scoped>\n",
       "    .dataframe tbody tr th:only-of-type {\n",
       "        vertical-align: middle;\n",
       "    }\n",
       "\n",
       "    .dataframe tbody tr th {\n",
       "        vertical-align: top;\n",
       "    }\n",
       "\n",
       "    .dataframe thead th {\n",
       "        text-align: right;\n",
       "    }\n",
       "</style>\n",
       "<table border=\"1\" class=\"dataframe\">\n",
       "  <thead>\n",
       "    <tr style=\"text-align: right;\">\n",
       "      <th></th>\n",
       "      <th>iso2</th>\n",
       "      <th>iso3</th>\n",
       "      <th>iso_numeric</th>\n",
       "      <th>g_whoregion</th>\n",
       "      <th>year</th>\n",
       "      <th>bmu</th>\n",
       "      <th>bmu_community_impl</th>\n",
       "      <th>community_data_available</th>\n",
       "      <th>bmu_ref_data</th>\n",
       "      <th>notified_ref</th>\n",
       "      <th>notified_ref_community</th>\n",
       "      <th>bmu_rxsupport_data</th>\n",
       "      <th>bmu_rxsupport_data_coh</th>\n",
       "      <th>rxsupport_community_coh</th>\n",
       "      <th>rxsupport_community_succ</th>\n",
       "    </tr>\n",
       "    <tr>\n",
       "      <th>country</th>\n",
       "      <th></th>\n",
       "      <th></th>\n",
       "      <th></th>\n",
       "      <th></th>\n",
       "      <th></th>\n",
       "      <th></th>\n",
       "      <th></th>\n",
       "      <th></th>\n",
       "      <th></th>\n",
       "      <th></th>\n",
       "      <th></th>\n",
       "      <th></th>\n",
       "      <th></th>\n",
       "      <th></th>\n",
       "      <th></th>\n",
       "    </tr>\n",
       "  </thead>\n",
       "  <tbody>\n",
       "    <tr>\n",
       "      <td>Afghanistan</td>\n",
       "      <td>AF</td>\n",
       "      <td>AFG</td>\n",
       "      <td>4</td>\n",
       "      <td>EMR</td>\n",
       "      <td>2013</td>\n",
       "      <td>423.885246</td>\n",
       "      <td>232.037879</td>\n",
       "      <td>0.549296</td>\n",
       "      <td>235.109489</td>\n",
       "      <td>40706.675277</td>\n",
       "      <td>7182.249012</td>\n",
       "      <td>661.000000</td>\n",
       "      <td>63441.1133</td>\n",
       "      <td>1089.000000</td>\n",
       "      <td>991.000000</td>\n",
       "    </tr>\n",
       "    <tr>\n",
       "      <td>Afghanistan</td>\n",
       "      <td>AF</td>\n",
       "      <td>AFG</td>\n",
       "      <td>4</td>\n",
       "      <td>EMR</td>\n",
       "      <td>2014</td>\n",
       "      <td>722.000000</td>\n",
       "      <td>232.037879</td>\n",
       "      <td>0.549296</td>\n",
       "      <td>661.000000</td>\n",
       "      <td>15946.000000</td>\n",
       "      <td>1088.000000</td>\n",
       "      <td>506.000000</td>\n",
       "      <td>811.0000</td>\n",
       "      <td>811.000000</td>\n",
       "      <td>811.000000</td>\n",
       "    </tr>\n",
       "    <tr>\n",
       "      <td>Afghanistan</td>\n",
       "      <td>AF</td>\n",
       "      <td>AFG</td>\n",
       "      <td>4</td>\n",
       "      <td>EMR</td>\n",
       "      <td>2015</td>\n",
       "      <td>708.000000</td>\n",
       "      <td>539.000000</td>\n",
       "      <td>1.000000</td>\n",
       "      <td>539.000000</td>\n",
       "      <td>35878.000000</td>\n",
       "      <td>1146.000000</td>\n",
       "      <td>750.000000</td>\n",
       "      <td>37001.0000</td>\n",
       "      <td>877.000000</td>\n",
       "      <td>875.000000</td>\n",
       "    </tr>\n",
       "    <tr>\n",
       "      <td>Afghanistan</td>\n",
       "      <td>AF</td>\n",
       "      <td>AFG</td>\n",
       "      <td>4</td>\n",
       "      <td>EMR</td>\n",
       "      <td>2016</td>\n",
       "      <td>778.000000</td>\n",
       "      <td>778.000000</td>\n",
       "      <td>1.000000</td>\n",
       "      <td>778.000000</td>\n",
       "      <td>19710.000000</td>\n",
       "      <td>1857.000000</td>\n",
       "      <td>778.000000</td>\n",
       "      <td>43046.0000</td>\n",
       "      <td>1943.000000</td>\n",
       "      <td>1803.000000</td>\n",
       "    </tr>\n",
       "    <tr>\n",
       "      <td>Afghanistan</td>\n",
       "      <td>AF</td>\n",
       "      <td>AFG</td>\n",
       "      <td>4</td>\n",
       "      <td>EMR</td>\n",
       "      <td>2017</td>\n",
       "      <td>817.000000</td>\n",
       "      <td>817.000000</td>\n",
       "      <td>1.000000</td>\n",
       "      <td>817.000000</td>\n",
       "      <td>47406.000000</td>\n",
       "      <td>5214.000000</td>\n",
       "      <td>778.000000</td>\n",
       "      <td>46640.0000</td>\n",
       "      <td>4123.000000</td>\n",
       "      <td>29002.339806</td>\n",
       "    </tr>\n",
       "    <tr>\n",
       "      <td>Afghanistan</td>\n",
       "      <td>AF</td>\n",
       "      <td>AFG</td>\n",
       "      <td>4</td>\n",
       "      <td>EMR</td>\n",
       "      <td>2018</td>\n",
       "      <td>887.000000</td>\n",
       "      <td>887.000000</td>\n",
       "      <td>1.000000</td>\n",
       "      <td>887.000000</td>\n",
       "      <td>48421.000000</td>\n",
       "      <td>7021.000000</td>\n",
       "      <td>297.073077</td>\n",
       "      <td>63441.1133</td>\n",
       "      <td>30194.145161</td>\n",
       "      <td>29002.339806</td>\n",
       "    </tr>\n",
       "    <tr>\n",
       "      <td>Albania</td>\n",
       "      <td>AL</td>\n",
       "      <td>ALB</td>\n",
       "      <td>8</td>\n",
       "      <td>EUR</td>\n",
       "      <td>2015</td>\n",
       "      <td>28.000000</td>\n",
       "      <td>28.000000</td>\n",
       "      <td>0.000000</td>\n",
       "      <td>235.109489</td>\n",
       "      <td>40706.675277</td>\n",
       "      <td>7182.249012</td>\n",
       "      <td>297.073077</td>\n",
       "      <td>63441.1133</td>\n",
       "      <td>30194.145161</td>\n",
       "      <td>29002.339806</td>\n",
       "    </tr>\n",
       "    <tr>\n",
       "      <td>Albania</td>\n",
       "      <td>AL</td>\n",
       "      <td>ALB</td>\n",
       "      <td>8</td>\n",
       "      <td>EUR</td>\n",
       "      <td>2016</td>\n",
       "      <td>28.000000</td>\n",
       "      <td>232.037879</td>\n",
       "      <td>0.000000</td>\n",
       "      <td>235.109489</td>\n",
       "      <td>40706.675277</td>\n",
       "      <td>7182.249012</td>\n",
       "      <td>297.073077</td>\n",
       "      <td>63441.1133</td>\n",
       "      <td>30194.145161</td>\n",
       "      <td>29002.339806</td>\n",
       "    </tr>\n",
       "    <tr>\n",
       "      <td>Algeria</td>\n",
       "      <td>DZ</td>\n",
       "      <td>DZA</td>\n",
       "      <td>12</td>\n",
       "      <td>AFR</td>\n",
       "      <td>2013</td>\n",
       "      <td>423.885246</td>\n",
       "      <td>232.037879</td>\n",
       "      <td>0.549296</td>\n",
       "      <td>235.109489</td>\n",
       "      <td>40706.675277</td>\n",
       "      <td>7182.249012</td>\n",
       "      <td>0.000000</td>\n",
       "      <td>63441.1133</td>\n",
       "      <td>0.000000</td>\n",
       "      <td>0.000000</td>\n",
       "    </tr>\n",
       "    <tr>\n",
       "      <td>Algeria</td>\n",
       "      <td>DZ</td>\n",
       "      <td>DZA</td>\n",
       "      <td>12</td>\n",
       "      <td>AFR</td>\n",
       "      <td>2014</td>\n",
       "      <td>271.000000</td>\n",
       "      <td>232.037879</td>\n",
       "      <td>0.549296</td>\n",
       "      <td>0.000000</td>\n",
       "      <td>0.000000</td>\n",
       "      <td>0.000000</td>\n",
       "      <td>48.000000</td>\n",
       "      <td>0.0000</td>\n",
       "      <td>0.000000</td>\n",
       "      <td>0.000000</td>\n",
       "    </tr>\n",
       "    <tr>\n",
       "      <td>Algeria</td>\n",
       "      <td>DZ</td>\n",
       "      <td>DZA</td>\n",
       "      <td>12</td>\n",
       "      <td>AFR</td>\n",
       "      <td>2015</td>\n",
       "      <td>48.000000</td>\n",
       "      <td>48.000000</td>\n",
       "      <td>1.000000</td>\n",
       "      <td>0.000000</td>\n",
       "      <td>0.000000</td>\n",
       "      <td>0.000000</td>\n",
       "      <td>0.000000</td>\n",
       "      <td>0.0000</td>\n",
       "      <td>0.000000</td>\n",
       "      <td>0.000000</td>\n",
       "    </tr>\n",
       "    <tr>\n",
       "      <td>Algeria</td>\n",
       "      <td>DZ</td>\n",
       "      <td>DZA</td>\n",
       "      <td>12</td>\n",
       "      <td>AFR</td>\n",
       "      <td>2016</td>\n",
       "      <td>240.000000</td>\n",
       "      <td>240.000000</td>\n",
       "      <td>1.000000</td>\n",
       "      <td>0.000000</td>\n",
       "      <td>0.000000</td>\n",
       "      <td>0.000000</td>\n",
       "      <td>297.073077</td>\n",
       "      <td>63441.1133</td>\n",
       "      <td>30194.145161</td>\n",
       "      <td>29002.339806</td>\n",
       "    </tr>\n",
       "    <tr>\n",
       "      <td>Algeria</td>\n",
       "      <td>DZ</td>\n",
       "      <td>DZA</td>\n",
       "      <td>12</td>\n",
       "      <td>AFR</td>\n",
       "      <td>2017</td>\n",
       "      <td>250.000000</td>\n",
       "      <td>17.000000</td>\n",
       "      <td>0.000000</td>\n",
       "      <td>235.109489</td>\n",
       "      <td>40706.675277</td>\n",
       "      <td>7182.249012</td>\n",
       "      <td>297.073077</td>\n",
       "      <td>63441.1133</td>\n",
       "      <td>30194.145161</td>\n",
       "      <td>29002.339806</td>\n",
       "    </tr>\n",
       "    <tr>\n",
       "      <td>Algeria</td>\n",
       "      <td>DZ</td>\n",
       "      <td>DZA</td>\n",
       "      <td>12</td>\n",
       "      <td>AFR</td>\n",
       "      <td>2018</td>\n",
       "      <td>247.000000</td>\n",
       "      <td>232.037879</td>\n",
       "      <td>0.000000</td>\n",
       "      <td>235.109489</td>\n",
       "      <td>40706.675277</td>\n",
       "      <td>7182.249012</td>\n",
       "      <td>297.073077</td>\n",
       "      <td>63441.1133</td>\n",
       "      <td>30194.145161</td>\n",
       "      <td>29002.339806</td>\n",
       "    </tr>\n",
       "    <tr>\n",
       "      <td>Angola</td>\n",
       "      <td>AO</td>\n",
       "      <td>AGO</td>\n",
       "      <td>24</td>\n",
       "      <td>AFR</td>\n",
       "      <td>2014</td>\n",
       "      <td>193.000000</td>\n",
       "      <td>232.037879</td>\n",
       "      <td>0.549296</td>\n",
       "      <td>235.109489</td>\n",
       "      <td>40706.675277</td>\n",
       "      <td>7182.249012</td>\n",
       "      <td>297.073077</td>\n",
       "      <td>63441.1133</td>\n",
       "      <td>30194.145161</td>\n",
       "      <td>29002.339806</td>\n",
       "    </tr>\n",
       "    <tr>\n",
       "      <td>Angola</td>\n",
       "      <td>AO</td>\n",
       "      <td>AGO</td>\n",
       "      <td>24</td>\n",
       "      <td>AFR</td>\n",
       "      <td>2015</td>\n",
       "      <td>283.000000</td>\n",
       "      <td>232.037879</td>\n",
       "      <td>0.000000</td>\n",
       "      <td>235.109489</td>\n",
       "      <td>40706.675277</td>\n",
       "      <td>7182.249012</td>\n",
       "      <td>297.073077</td>\n",
       "      <td>63441.1133</td>\n",
       "      <td>30194.145161</td>\n",
       "      <td>29002.339806</td>\n",
       "    </tr>\n",
       "    <tr>\n",
       "      <td>Angola</td>\n",
       "      <td>AO</td>\n",
       "      <td>AGO</td>\n",
       "      <td>24</td>\n",
       "      <td>AFR</td>\n",
       "      <td>2016</td>\n",
       "      <td>302.000000</td>\n",
       "      <td>280.000000</td>\n",
       "      <td>0.000000</td>\n",
       "      <td>235.109489</td>\n",
       "      <td>40706.675277</td>\n",
       "      <td>7182.249012</td>\n",
       "      <td>297.073077</td>\n",
       "      <td>63441.1133</td>\n",
       "      <td>30194.145161</td>\n",
       "      <td>29002.339806</td>\n",
       "    </tr>\n",
       "    <tr>\n",
       "      <td>Angola</td>\n",
       "      <td>AO</td>\n",
       "      <td>AGO</td>\n",
       "      <td>24</td>\n",
       "      <td>AFR</td>\n",
       "      <td>2017</td>\n",
       "      <td>302.000000</td>\n",
       "      <td>0.000000</td>\n",
       "      <td>0.000000</td>\n",
       "      <td>235.109489</td>\n",
       "      <td>40706.675277</td>\n",
       "      <td>7182.249012</td>\n",
       "      <td>0.000000</td>\n",
       "      <td>0.0000</td>\n",
       "      <td>0.000000</td>\n",
       "      <td>0.000000</td>\n",
       "    </tr>\n",
       "    <tr>\n",
       "      <td>Angola</td>\n",
       "      <td>AO</td>\n",
       "      <td>AGO</td>\n",
       "      <td>24</td>\n",
       "      <td>AFR</td>\n",
       "      <td>2018</td>\n",
       "      <td>333.000000</td>\n",
       "      <td>9.000000</td>\n",
       "      <td>1.000000</td>\n",
       "      <td>9.000000</td>\n",
       "      <td>5276.000000</td>\n",
       "      <td>5276.000000</td>\n",
       "      <td>297.073077</td>\n",
       "      <td>63441.1133</td>\n",
       "      <td>30194.145161</td>\n",
       "      <td>29002.339806</td>\n",
       "    </tr>\n",
       "    <tr>\n",
       "      <td>Armenia</td>\n",
       "      <td>AM</td>\n",
       "      <td>ARM</td>\n",
       "      <td>51</td>\n",
       "      <td>EUR</td>\n",
       "      <td>2013</td>\n",
       "      <td>423.885246</td>\n",
       "      <td>232.037879</td>\n",
       "      <td>0.549296</td>\n",
       "      <td>235.109489</td>\n",
       "      <td>40706.675277</td>\n",
       "      <td>7182.249012</td>\n",
       "      <td>66.000000</td>\n",
       "      <td>63441.1133</td>\n",
       "      <td>0.000000</td>\n",
       "      <td>0.000000</td>\n",
       "    </tr>\n",
       "  </tbody>\n",
       "</table>\n",
       "</div>"
      ],
      "text/plain": [
       "            iso2 iso3  iso_numeric g_whoregion  year         bmu  \\\n",
       "country                                                            \n",
       "Afghanistan   AF  AFG            4         EMR  2013  423.885246   \n",
       "Afghanistan   AF  AFG            4         EMR  2014  722.000000   \n",
       "Afghanistan   AF  AFG            4         EMR  2015  708.000000   \n",
       "Afghanistan   AF  AFG            4         EMR  2016  778.000000   \n",
       "Afghanistan   AF  AFG            4         EMR  2017  817.000000   \n",
       "Afghanistan   AF  AFG            4         EMR  2018  887.000000   \n",
       "Albania       AL  ALB            8         EUR  2015   28.000000   \n",
       "Albania       AL  ALB            8         EUR  2016   28.000000   \n",
       "Algeria       DZ  DZA           12         AFR  2013  423.885246   \n",
       "Algeria       DZ  DZA           12         AFR  2014  271.000000   \n",
       "Algeria       DZ  DZA           12         AFR  2015   48.000000   \n",
       "Algeria       DZ  DZA           12         AFR  2016  240.000000   \n",
       "Algeria       DZ  DZA           12         AFR  2017  250.000000   \n",
       "Algeria       DZ  DZA           12         AFR  2018  247.000000   \n",
       "Angola        AO  AGO           24         AFR  2014  193.000000   \n",
       "Angola        AO  AGO           24         AFR  2015  283.000000   \n",
       "Angola        AO  AGO           24         AFR  2016  302.000000   \n",
       "Angola        AO  AGO           24         AFR  2017  302.000000   \n",
       "Angola        AO  AGO           24         AFR  2018  333.000000   \n",
       "Armenia       AM  ARM           51         EUR  2013  423.885246   \n",
       "\n",
       "             bmu_community_impl  community_data_available  bmu_ref_data  \\\n",
       "country                                                                   \n",
       "Afghanistan          232.037879                  0.549296    235.109489   \n",
       "Afghanistan          232.037879                  0.549296    661.000000   \n",
       "Afghanistan          539.000000                  1.000000    539.000000   \n",
       "Afghanistan          778.000000                  1.000000    778.000000   \n",
       "Afghanistan          817.000000                  1.000000    817.000000   \n",
       "Afghanistan          887.000000                  1.000000    887.000000   \n",
       "Albania               28.000000                  0.000000    235.109489   \n",
       "Albania              232.037879                  0.000000    235.109489   \n",
       "Algeria              232.037879                  0.549296    235.109489   \n",
       "Algeria              232.037879                  0.549296      0.000000   \n",
       "Algeria               48.000000                  1.000000      0.000000   \n",
       "Algeria              240.000000                  1.000000      0.000000   \n",
       "Algeria               17.000000                  0.000000    235.109489   \n",
       "Algeria              232.037879                  0.000000    235.109489   \n",
       "Angola               232.037879                  0.549296    235.109489   \n",
       "Angola               232.037879                  0.000000    235.109489   \n",
       "Angola               280.000000                  0.000000    235.109489   \n",
       "Angola                 0.000000                  0.000000    235.109489   \n",
       "Angola                 9.000000                  1.000000      9.000000   \n",
       "Armenia              232.037879                  0.549296    235.109489   \n",
       "\n",
       "             notified_ref  notified_ref_community  bmu_rxsupport_data  \\\n",
       "country                                                                 \n",
       "Afghanistan  40706.675277             7182.249012          661.000000   \n",
       "Afghanistan  15946.000000             1088.000000          506.000000   \n",
       "Afghanistan  35878.000000             1146.000000          750.000000   \n",
       "Afghanistan  19710.000000             1857.000000          778.000000   \n",
       "Afghanistan  47406.000000             5214.000000          778.000000   \n",
       "Afghanistan  48421.000000             7021.000000          297.073077   \n",
       "Albania      40706.675277             7182.249012          297.073077   \n",
       "Albania      40706.675277             7182.249012          297.073077   \n",
       "Algeria      40706.675277             7182.249012            0.000000   \n",
       "Algeria          0.000000                0.000000           48.000000   \n",
       "Algeria          0.000000                0.000000            0.000000   \n",
       "Algeria          0.000000                0.000000          297.073077   \n",
       "Algeria      40706.675277             7182.249012          297.073077   \n",
       "Algeria      40706.675277             7182.249012          297.073077   \n",
       "Angola       40706.675277             7182.249012          297.073077   \n",
       "Angola       40706.675277             7182.249012          297.073077   \n",
       "Angola       40706.675277             7182.249012          297.073077   \n",
       "Angola       40706.675277             7182.249012            0.000000   \n",
       "Angola        5276.000000             5276.000000          297.073077   \n",
       "Armenia      40706.675277             7182.249012           66.000000   \n",
       "\n",
       "             bmu_rxsupport_data_coh  rxsupport_community_coh  \\\n",
       "country                                                        \n",
       "Afghanistan              63441.1133              1089.000000   \n",
       "Afghanistan                811.0000               811.000000   \n",
       "Afghanistan              37001.0000               877.000000   \n",
       "Afghanistan              43046.0000              1943.000000   \n",
       "Afghanistan              46640.0000              4123.000000   \n",
       "Afghanistan              63441.1133             30194.145161   \n",
       "Albania                  63441.1133             30194.145161   \n",
       "Albania                  63441.1133             30194.145161   \n",
       "Algeria                  63441.1133                 0.000000   \n",
       "Algeria                      0.0000                 0.000000   \n",
       "Algeria                      0.0000                 0.000000   \n",
       "Algeria                  63441.1133             30194.145161   \n",
       "Algeria                  63441.1133             30194.145161   \n",
       "Algeria                  63441.1133             30194.145161   \n",
       "Angola                   63441.1133             30194.145161   \n",
       "Angola                   63441.1133             30194.145161   \n",
       "Angola                   63441.1133             30194.145161   \n",
       "Angola                       0.0000                 0.000000   \n",
       "Angola                   63441.1133             30194.145161   \n",
       "Armenia                  63441.1133                 0.000000   \n",
       "\n",
       "             rxsupport_community_succ  \n",
       "country                                \n",
       "Afghanistan                991.000000  \n",
       "Afghanistan                811.000000  \n",
       "Afghanistan                875.000000  \n",
       "Afghanistan               1803.000000  \n",
       "Afghanistan              29002.339806  \n",
       "Afghanistan              29002.339806  \n",
       "Albania                  29002.339806  \n",
       "Albania                  29002.339806  \n",
       "Algeria                      0.000000  \n",
       "Algeria                      0.000000  \n",
       "Algeria                      0.000000  \n",
       "Algeria                  29002.339806  \n",
       "Algeria                  29002.339806  \n",
       "Algeria                  29002.339806  \n",
       "Angola                   29002.339806  \n",
       "Angola                   29002.339806  \n",
       "Angola                   29002.339806  \n",
       "Angola                       0.000000  \n",
       "Angola                   29002.339806  \n",
       "Armenia                      0.000000  "
      ]
     },
     "execution_count": 13,
     "metadata": {},
     "output_type": "execute_result"
    }
   ],
   "source": [
    "dataset.head(20)"
   ]
  },
  {
   "cell_type": "markdown",
   "metadata": {
    "scrolled": true
   },
   "source": [
    "### For every Dataset, the exploration, visualization and insights you obtain from it depends on the tasks assigned to you.\n",
    "\n",
    "### For the sake of practice in this lesson, you'll extract some random but valuable insights and plot visualization where necessary, for the sake of practice and building your skills"
   ]
  },
  {
   "cell_type": "markdown",
   "metadata": {},
   "source": [
    "#### To determine how many unique countries are represented in this Dataset"
   ]
  },
  {
   "cell_type": "code",
   "execution_count": 14,
   "metadata": {
    "scrolled": true
   },
   "outputs": [
    {
     "name": "stdout",
     "output_type": "stream",
     "text": [
      "There are 113 countries represented in this dataset\n"
     ]
    }
   ],
   "source": [
    "countries = dataset.index.unique()\n",
    "countries1 = countries.value_counts().count()\n",
    "print(\"There are\",countries1,\"countries represented in this dataset\")"
   ]
  },
  {
   "cell_type": "markdown",
   "metadata": {},
   "source": [
    "#### The counts for the unique values in columns 'iso2', 'iso3', 'iso_numeric will be the same with that of country counts. But just to be double sure, let's run the following codes"
   ]
  },
  {
   "cell_type": "code",
   "execution_count": 15,
   "metadata": {},
   "outputs": [
    {
     "name": "stdout",
     "output_type": "stream",
     "text": [
      "The number of unique values in 'iso2' column is 112\n"
     ]
    }
   ],
   "source": [
    "iso2_uniques = dataset.iso2.unique()\n",
    "iso2_uniques1 = len(iso2_uniques)\n",
    "print(\"The number of unique values in \\'iso2\\' column is\", iso2_uniques1)"
   ]
  },
  {
   "cell_type": "code",
   "execution_count": 16,
   "metadata": {},
   "outputs": [
    {
     "name": "stdout",
     "output_type": "stream",
     "text": [
      "The number of uniques values in 'iso3' column is 113\n"
     ]
    }
   ],
   "source": [
    "iso3_uniques = dataset.iso3.unique()\n",
    "iso3_uniques1 = len(iso3_uniques)\n",
    "print(\"The number of uniques values in \\'iso3\\' column is\", iso3_uniques1)"
   ]
  },
  {
   "cell_type": "code",
   "execution_count": 17,
   "metadata": {
    "scrolled": true
   },
   "outputs": [
    {
     "name": "stdout",
     "output_type": "stream",
     "text": [
      "The number of unique values present in 'iso_numeric' column is 113\n"
     ]
    }
   ],
   "source": [
    "isonum_uniques = dataset[\"iso_numeric\"].unique()\n",
    "isonum_uniques1 = len(isonum_uniques)\n",
    "print(\"The number of unique values present in \\'iso_numeric\\' column is\", isonum_uniques1)"
   ]
  },
  {
   "cell_type": "markdown",
   "metadata": {},
   "source": [
    "#### The number of unique regions represented in this dataset will be checked and confirmed"
   ]
  },
  {
   "cell_type": "code",
   "execution_count": 18,
   "metadata": {},
   "outputs": [
    {
     "name": "stdout",
     "output_type": "stream",
     "text": [
      "The number of unique regions represented in 'g_whoregion' column of this dataset is 6\n"
     ]
    }
   ],
   "source": [
    "regions_unique = dataset[\"g_whoregion\"].unique()\n",
    "regions_unique1 = len(regions_unique)\n",
    "print(\"The number of unique regions represented in \\'g_whoregion\\' column of this dataset is\",regions_unique1)"
   ]
  },
  {
   "cell_type": "markdown",
   "metadata": {},
   "source": [
    "#### To check the number of years which the dataset covers. Or simply said, the number of unique years represented in this dataset"
   ]
  },
  {
   "cell_type": "code",
   "execution_count": 19,
   "metadata": {},
   "outputs": [
    {
     "name": "stdout",
     "output_type": "stream",
     "text": [
      "The number of unique years present in the 'year' column of this dataset is 6\n"
     ]
    }
   ],
   "source": [
    "years_unique = dataset.year.unique()\n",
    "years_unique1 = len(years_unique)\n",
    "print(\"The number of unique years present in the \\'year\\' column of this dataset is\", years_unique1)"
   ]
  },
  {
   "cell_type": "code",
   "execution_count": 20,
   "metadata": {},
   "outputs": [
    {
     "name": "stdout",
     "output_type": "stream",
     "text": [
      "The range of years covered in the dataset is within the range of year 2013 to 2018\n"
     ]
    }
   ],
   "source": [
    "print(\"The range of years covered in the dataset is within the range of year\", years_unique.min(),\"to\", years_unique.max())"
   ]
  },
  {
   "cell_type": "code",
   "execution_count": 21,
   "metadata": {},
   "outputs": [
    {
     "data": {
      "text/plain": [
       "3"
      ]
     },
     "execution_count": 21,
     "metadata": {},
     "output_type": "execute_result"
    }
   ],
   "source": [
    "len(dataset[\"community_data_available\"].unique())"
   ]
  },
  {
   "cell_type": "markdown",
   "metadata": {},
   "source": [
    "### Now, create a DataFrame which gives you a visual clue of the regions and the countries in each region"
   ]
  },
  {
   "cell_type": "code",
   "execution_count": 22,
   "metadata": {},
   "outputs": [
    {
     "data": {
      "text/html": [
       "<div>\n",
       "<style scoped>\n",
       "    .dataframe tbody tr th:only-of-type {\n",
       "        vertical-align: middle;\n",
       "    }\n",
       "\n",
       "    .dataframe tbody tr th {\n",
       "        vertical-align: top;\n",
       "    }\n",
       "\n",
       "    .dataframe thead th {\n",
       "        text-align: right;\n",
       "    }\n",
       "</style>\n",
       "<table border=\"1\" class=\"dataframe\">\n",
       "  <thead>\n",
       "    <tr style=\"text-align: right;\">\n",
       "      <th>g_whoregion</th>\n",
       "      <th>AFR</th>\n",
       "      <th>AMR</th>\n",
       "      <th>EMR</th>\n",
       "      <th>EUR</th>\n",
       "      <th>SEA</th>\n",
       "      <th>WPR</th>\n",
       "    </tr>\n",
       "    <tr>\n",
       "      <th>country</th>\n",
       "      <th></th>\n",
       "      <th></th>\n",
       "      <th></th>\n",
       "      <th></th>\n",
       "      <th></th>\n",
       "      <th></th>\n",
       "    </tr>\n",
       "  </thead>\n",
       "  <tbody>\n",
       "    <tr>\n",
       "      <td>Afghanistan</td>\n",
       "      <td>NaN</td>\n",
       "      <td>NaN</td>\n",
       "      <td>6.0</td>\n",
       "      <td>NaN</td>\n",
       "      <td>NaN</td>\n",
       "      <td>NaN</td>\n",
       "    </tr>\n",
       "    <tr>\n",
       "      <td>Albania</td>\n",
       "      <td>NaN</td>\n",
       "      <td>NaN</td>\n",
       "      <td>NaN</td>\n",
       "      <td>2.0</td>\n",
       "      <td>NaN</td>\n",
       "      <td>NaN</td>\n",
       "    </tr>\n",
       "    <tr>\n",
       "      <td>Algeria</td>\n",
       "      <td>6.0</td>\n",
       "      <td>NaN</td>\n",
       "      <td>NaN</td>\n",
       "      <td>NaN</td>\n",
       "      <td>NaN</td>\n",
       "      <td>NaN</td>\n",
       "    </tr>\n",
       "    <tr>\n",
       "      <td>Angola</td>\n",
       "      <td>5.0</td>\n",
       "      <td>NaN</td>\n",
       "      <td>NaN</td>\n",
       "      <td>NaN</td>\n",
       "      <td>NaN</td>\n",
       "      <td>NaN</td>\n",
       "    </tr>\n",
       "    <tr>\n",
       "      <td>Armenia</td>\n",
       "      <td>NaN</td>\n",
       "      <td>NaN</td>\n",
       "      <td>NaN</td>\n",
       "      <td>5.0</td>\n",
       "      <td>NaN</td>\n",
       "      <td>NaN</td>\n",
       "    </tr>\n",
       "    <tr>\n",
       "      <td>...</td>\n",
       "      <td>...</td>\n",
       "      <td>...</td>\n",
       "      <td>...</td>\n",
       "      <td>...</td>\n",
       "      <td>...</td>\n",
       "      <td>...</td>\n",
       "    </tr>\n",
       "    <tr>\n",
       "      <td>Venezuela (Bolivarian Republic of)</td>\n",
       "      <td>NaN</td>\n",
       "      <td>4.0</td>\n",
       "      <td>NaN</td>\n",
       "      <td>NaN</td>\n",
       "      <td>NaN</td>\n",
       "      <td>NaN</td>\n",
       "    </tr>\n",
       "    <tr>\n",
       "      <td>Viet Nam</td>\n",
       "      <td>NaN</td>\n",
       "      <td>NaN</td>\n",
       "      <td>NaN</td>\n",
       "      <td>NaN</td>\n",
       "      <td>NaN</td>\n",
       "      <td>6.0</td>\n",
       "    </tr>\n",
       "    <tr>\n",
       "      <td>Yemen</td>\n",
       "      <td>NaN</td>\n",
       "      <td>NaN</td>\n",
       "      <td>3.0</td>\n",
       "      <td>NaN</td>\n",
       "      <td>NaN</td>\n",
       "      <td>NaN</td>\n",
       "    </tr>\n",
       "    <tr>\n",
       "      <td>Zambia</td>\n",
       "      <td>5.0</td>\n",
       "      <td>NaN</td>\n",
       "      <td>NaN</td>\n",
       "      <td>NaN</td>\n",
       "      <td>NaN</td>\n",
       "      <td>NaN</td>\n",
       "    </tr>\n",
       "    <tr>\n",
       "      <td>Zimbabwe</td>\n",
       "      <td>6.0</td>\n",
       "      <td>NaN</td>\n",
       "      <td>NaN</td>\n",
       "      <td>NaN</td>\n",
       "      <td>NaN</td>\n",
       "      <td>NaN</td>\n",
       "    </tr>\n",
       "  </tbody>\n",
       "</table>\n",
       "<p>113 rows × 6 columns</p>\n",
       "</div>"
      ],
      "text/plain": [
       "g_whoregion                         AFR  AMR  EMR  EUR  SEA  WPR\n",
       "country                                                         \n",
       "Afghanistan                         NaN  NaN  6.0  NaN  NaN  NaN\n",
       "Albania                             NaN  NaN  NaN  2.0  NaN  NaN\n",
       "Algeria                             6.0  NaN  NaN  NaN  NaN  NaN\n",
       "Angola                              5.0  NaN  NaN  NaN  NaN  NaN\n",
       "Armenia                             NaN  NaN  NaN  5.0  NaN  NaN\n",
       "...                                 ...  ...  ...  ...  ...  ...\n",
       "Venezuela (Bolivarian Republic of)  NaN  4.0  NaN  NaN  NaN  NaN\n",
       "Viet Nam                            NaN  NaN  NaN  NaN  NaN  6.0\n",
       "Yemen                               NaN  NaN  3.0  NaN  NaN  NaN\n",
       "Zambia                              5.0  NaN  NaN  NaN  NaN  NaN\n",
       "Zimbabwe                            6.0  NaN  NaN  NaN  NaN  NaN\n",
       "\n",
       "[113 rows x 6 columns]"
      ]
     },
     "execution_count": 22,
     "metadata": {},
     "output_type": "execute_result"
    }
   ],
   "source": [
    "country_regs = dataset[\"community_data_available\"].groupby([dataset[\"g_whoregion\"], dataset.index])\n",
    "country_regs1 = country_regs.size()\n",
    "country_regs11 = country_regs1.unstack(0)\n",
    "country_regs11"
   ]
  },
  {
   "cell_type": "markdown",
   "metadata": {},
   "source": [
    "### Pay attention to the 2 lines of codes below. A Series object was obtained and the \"unstack()\" method was used on it to convert it to a  DataFrame object.\n",
    "\n",
    "### As i always say, there's no limitation to the things you can do with the vast amazing toolkits available in the Python libraries.\n",
    "\n",
    "### Just know your tools and the task you aim to accomplish, then unleash your creativity in getting things done"
   ]
  },
  {
   "cell_type": "code",
   "execution_count": 23,
   "metadata": {},
   "outputs": [
    {
     "data": {
      "text/plain": [
       "pandas.core.series.Series"
      ]
     },
     "execution_count": 23,
     "metadata": {},
     "output_type": "execute_result"
    }
   ],
   "source": [
    "type(country_regs1)"
   ]
  },
  {
   "cell_type": "code",
   "execution_count": 24,
   "metadata": {},
   "outputs": [
    {
     "data": {
      "text/plain": [
       "pandas.core.frame.DataFrame"
      ]
     },
     "execution_count": 24,
     "metadata": {},
     "output_type": "execute_result"
    }
   ],
   "source": [
    "type(country_regs11)"
   ]
  },
  {
   "cell_type": "markdown",
   "metadata": {},
   "source": [
    "###  Now, it's time to get information about the exact number of countries in each regions"
   ]
  },
  {
   "cell_type": "code",
   "execution_count": 25,
   "metadata": {},
   "outputs": [
    {
     "name": "stdout",
     "output_type": "stream",
     "text": [
      "The number of countries present in the 'AFR' region is 42\n"
     ]
    }
   ],
   "source": [
    "AFR_countries = country_regs11.AFR[country_regs11.AFR > 0]\n",
    "AFR_countries\n",
    "print(\"The number of countries present in the \\'AFR\\' region is\", AFR_countries.count())"
   ]
  },
  {
   "cell_type": "code",
   "execution_count": 26,
   "metadata": {},
   "outputs": [
    {
     "name": "stdout",
     "output_type": "stream",
     "text": [
      "The number of countries present in the 'AMR' region is 17\n"
     ]
    }
   ],
   "source": [
    "AMR_countries = country_regs11.AMR[country_regs11.AMR > 0]\n",
    "AMR_countries\n",
    "print(\"The number of countries present in the \\'AMR\\' region is\", AMR_countries.count())"
   ]
  },
  {
   "cell_type": "code",
   "execution_count": 27,
   "metadata": {},
   "outputs": [
    {
     "name": "stdout",
     "output_type": "stream",
     "text": [
      "The number of countries present in the 'EMR' region is 13\n"
     ]
    }
   ],
   "source": [
    "EMR_countries = country_regs11.EMR[country_regs11.EMR > 0]\n",
    "EMR_countries\n",
    "print(\"The number of countries present in the \\'EMR\\' region is\", EMR_countries.count())"
   ]
  },
  {
   "cell_type": "code",
   "execution_count": 28,
   "metadata": {},
   "outputs": [
    {
     "name": "stdout",
     "output_type": "stream",
     "text": [
      "The number of countries present in the 'EUR' region is 20\n"
     ]
    }
   ],
   "source": [
    "EUR_countries = country_regs11.EUR[country_regs11.EUR > 0]\n",
    "EUR_countries\n",
    "print(\"The number of countries present in the \\'EUR\\' region is\", EUR_countries.count())"
   ]
  },
  {
   "cell_type": "code",
   "execution_count": 29,
   "metadata": {},
   "outputs": [
    {
     "name": "stdout",
     "output_type": "stream",
     "text": [
      "The number of countries present in the 'SEA' region is 9\n"
     ]
    }
   ],
   "source": [
    "SEA_countries = country_regs11.SEA[country_regs11.SEA > 0]\n",
    "SEA_countries\n",
    "print(\"The number of countries present in the \\'SEA\\' region is\", SEA_countries.count())"
   ]
  },
  {
   "cell_type": "code",
   "execution_count": 30,
   "metadata": {},
   "outputs": [
    {
     "name": "stdout",
     "output_type": "stream",
     "text": [
      "The number of countries present in the 'WPR' region is 9\n"
     ]
    }
   ],
   "source": [
    "WPR_countries = country_regs11.SEA[country_regs11.SEA > 0]\n",
    "WPR_countries\n",
    "print(\"The number of countries present in the \\'WPR\\' region is\", WPR_countries.count())"
   ]
  },
  {
   "cell_type": "markdown",
   "metadata": {},
   "source": [
    "### Next is to determine number of countries and regions that was attended to in the program per year"
   ]
  },
  {
   "cell_type": "code",
   "execution_count": 31,
   "metadata": {},
   "outputs": [
    {
     "data": {
      "text/html": [
       "<div>\n",
       "<style scoped>\n",
       "    .dataframe tbody tr th:only-of-type {\n",
       "        vertical-align: middle;\n",
       "    }\n",
       "\n",
       "    .dataframe tbody tr th {\n",
       "        vertical-align: top;\n",
       "    }\n",
       "\n",
       "    .dataframe thead th {\n",
       "        text-align: right;\n",
       "    }\n",
       "</style>\n",
       "<table border=\"1\" class=\"dataframe\">\n",
       "  <thead>\n",
       "    <tr style=\"text-align: right;\">\n",
       "      <th></th>\n",
       "      <th>iso2</th>\n",
       "      <th>iso3</th>\n",
       "      <th>iso_numeric</th>\n",
       "      <th>g_whoregion</th>\n",
       "      <th>year</th>\n",
       "      <th>bmu</th>\n",
       "      <th>bmu_community_impl</th>\n",
       "      <th>community_data_available</th>\n",
       "      <th>bmu_ref_data</th>\n",
       "      <th>notified_ref</th>\n",
       "      <th>notified_ref_community</th>\n",
       "      <th>bmu_rxsupport_data</th>\n",
       "      <th>bmu_rxsupport_data_coh</th>\n",
       "      <th>rxsupport_community_coh</th>\n",
       "      <th>rxsupport_community_succ</th>\n",
       "    </tr>\n",
       "    <tr>\n",
       "      <th>country</th>\n",
       "      <th></th>\n",
       "      <th></th>\n",
       "      <th></th>\n",
       "      <th></th>\n",
       "      <th></th>\n",
       "      <th></th>\n",
       "      <th></th>\n",
       "      <th></th>\n",
       "      <th></th>\n",
       "      <th></th>\n",
       "      <th></th>\n",
       "      <th></th>\n",
       "      <th></th>\n",
       "      <th></th>\n",
       "      <th></th>\n",
       "    </tr>\n",
       "  </thead>\n",
       "  <tbody>\n",
       "    <tr>\n",
       "      <td>Afghanistan</td>\n",
       "      <td>AF</td>\n",
       "      <td>AFG</td>\n",
       "      <td>4</td>\n",
       "      <td>EMR</td>\n",
       "      <td>2013</td>\n",
       "      <td>423.885246</td>\n",
       "      <td>232.037879</td>\n",
       "      <td>0.549296</td>\n",
       "      <td>235.109489</td>\n",
       "      <td>40706.675277</td>\n",
       "      <td>7182.249012</td>\n",
       "      <td>661.000000</td>\n",
       "      <td>63441.1133</td>\n",
       "      <td>1089.000000</td>\n",
       "      <td>991.000000</td>\n",
       "    </tr>\n",
       "    <tr>\n",
       "      <td>Afghanistan</td>\n",
       "      <td>AF</td>\n",
       "      <td>AFG</td>\n",
       "      <td>4</td>\n",
       "      <td>EMR</td>\n",
       "      <td>2014</td>\n",
       "      <td>722.000000</td>\n",
       "      <td>232.037879</td>\n",
       "      <td>0.549296</td>\n",
       "      <td>661.000000</td>\n",
       "      <td>15946.000000</td>\n",
       "      <td>1088.000000</td>\n",
       "      <td>506.000000</td>\n",
       "      <td>811.0000</td>\n",
       "      <td>811.000000</td>\n",
       "      <td>811.000000</td>\n",
       "    </tr>\n",
       "    <tr>\n",
       "      <td>Afghanistan</td>\n",
       "      <td>AF</td>\n",
       "      <td>AFG</td>\n",
       "      <td>4</td>\n",
       "      <td>EMR</td>\n",
       "      <td>2015</td>\n",
       "      <td>708.000000</td>\n",
       "      <td>539.000000</td>\n",
       "      <td>1.000000</td>\n",
       "      <td>539.000000</td>\n",
       "      <td>35878.000000</td>\n",
       "      <td>1146.000000</td>\n",
       "      <td>750.000000</td>\n",
       "      <td>37001.0000</td>\n",
       "      <td>877.000000</td>\n",
       "      <td>875.000000</td>\n",
       "    </tr>\n",
       "    <tr>\n",
       "      <td>Afghanistan</td>\n",
       "      <td>AF</td>\n",
       "      <td>AFG</td>\n",
       "      <td>4</td>\n",
       "      <td>EMR</td>\n",
       "      <td>2016</td>\n",
       "      <td>778.000000</td>\n",
       "      <td>778.000000</td>\n",
       "      <td>1.000000</td>\n",
       "      <td>778.000000</td>\n",
       "      <td>19710.000000</td>\n",
       "      <td>1857.000000</td>\n",
       "      <td>778.000000</td>\n",
       "      <td>43046.0000</td>\n",
       "      <td>1943.000000</td>\n",
       "      <td>1803.000000</td>\n",
       "    </tr>\n",
       "    <tr>\n",
       "      <td>Afghanistan</td>\n",
       "      <td>AF</td>\n",
       "      <td>AFG</td>\n",
       "      <td>4</td>\n",
       "      <td>EMR</td>\n",
       "      <td>2017</td>\n",
       "      <td>817.000000</td>\n",
       "      <td>817.000000</td>\n",
       "      <td>1.000000</td>\n",
       "      <td>817.000000</td>\n",
       "      <td>47406.000000</td>\n",
       "      <td>5214.000000</td>\n",
       "      <td>778.000000</td>\n",
       "      <td>46640.0000</td>\n",
       "      <td>4123.000000</td>\n",
       "      <td>29002.339806</td>\n",
       "    </tr>\n",
       "    <tr>\n",
       "      <td>Afghanistan</td>\n",
       "      <td>AF</td>\n",
       "      <td>AFG</td>\n",
       "      <td>4</td>\n",
       "      <td>EMR</td>\n",
       "      <td>2018</td>\n",
       "      <td>887.000000</td>\n",
       "      <td>887.000000</td>\n",
       "      <td>1.000000</td>\n",
       "      <td>887.000000</td>\n",
       "      <td>48421.000000</td>\n",
       "      <td>7021.000000</td>\n",
       "      <td>297.073077</td>\n",
       "      <td>63441.1133</td>\n",
       "      <td>30194.145161</td>\n",
       "      <td>29002.339806</td>\n",
       "    </tr>\n",
       "    <tr>\n",
       "      <td>Albania</td>\n",
       "      <td>AL</td>\n",
       "      <td>ALB</td>\n",
       "      <td>8</td>\n",
       "      <td>EUR</td>\n",
       "      <td>2015</td>\n",
       "      <td>28.000000</td>\n",
       "      <td>28.000000</td>\n",
       "      <td>0.000000</td>\n",
       "      <td>235.109489</td>\n",
       "      <td>40706.675277</td>\n",
       "      <td>7182.249012</td>\n",
       "      <td>297.073077</td>\n",
       "      <td>63441.1133</td>\n",
       "      <td>30194.145161</td>\n",
       "      <td>29002.339806</td>\n",
       "    </tr>\n",
       "    <tr>\n",
       "      <td>Albania</td>\n",
       "      <td>AL</td>\n",
       "      <td>ALB</td>\n",
       "      <td>8</td>\n",
       "      <td>EUR</td>\n",
       "      <td>2016</td>\n",
       "      <td>28.000000</td>\n",
       "      <td>232.037879</td>\n",
       "      <td>0.000000</td>\n",
       "      <td>235.109489</td>\n",
       "      <td>40706.675277</td>\n",
       "      <td>7182.249012</td>\n",
       "      <td>297.073077</td>\n",
       "      <td>63441.1133</td>\n",
       "      <td>30194.145161</td>\n",
       "      <td>29002.339806</td>\n",
       "    </tr>\n",
       "    <tr>\n",
       "      <td>Algeria</td>\n",
       "      <td>DZ</td>\n",
       "      <td>DZA</td>\n",
       "      <td>12</td>\n",
       "      <td>AFR</td>\n",
       "      <td>2013</td>\n",
       "      <td>423.885246</td>\n",
       "      <td>232.037879</td>\n",
       "      <td>0.549296</td>\n",
       "      <td>235.109489</td>\n",
       "      <td>40706.675277</td>\n",
       "      <td>7182.249012</td>\n",
       "      <td>0.000000</td>\n",
       "      <td>63441.1133</td>\n",
       "      <td>0.000000</td>\n",
       "      <td>0.000000</td>\n",
       "    </tr>\n",
       "    <tr>\n",
       "      <td>Algeria</td>\n",
       "      <td>DZ</td>\n",
       "      <td>DZA</td>\n",
       "      <td>12</td>\n",
       "      <td>AFR</td>\n",
       "      <td>2014</td>\n",
       "      <td>271.000000</td>\n",
       "      <td>232.037879</td>\n",
       "      <td>0.549296</td>\n",
       "      <td>0.000000</td>\n",
       "      <td>0.000000</td>\n",
       "      <td>0.000000</td>\n",
       "      <td>48.000000</td>\n",
       "      <td>0.0000</td>\n",
       "      <td>0.000000</td>\n",
       "      <td>0.000000</td>\n",
       "    </tr>\n",
       "    <tr>\n",
       "      <td>Algeria</td>\n",
       "      <td>DZ</td>\n",
       "      <td>DZA</td>\n",
       "      <td>12</td>\n",
       "      <td>AFR</td>\n",
       "      <td>2015</td>\n",
       "      <td>48.000000</td>\n",
       "      <td>48.000000</td>\n",
       "      <td>1.000000</td>\n",
       "      <td>0.000000</td>\n",
       "      <td>0.000000</td>\n",
       "      <td>0.000000</td>\n",
       "      <td>0.000000</td>\n",
       "      <td>0.0000</td>\n",
       "      <td>0.000000</td>\n",
       "      <td>0.000000</td>\n",
       "    </tr>\n",
       "    <tr>\n",
       "      <td>Algeria</td>\n",
       "      <td>DZ</td>\n",
       "      <td>DZA</td>\n",
       "      <td>12</td>\n",
       "      <td>AFR</td>\n",
       "      <td>2016</td>\n",
       "      <td>240.000000</td>\n",
       "      <td>240.000000</td>\n",
       "      <td>1.000000</td>\n",
       "      <td>0.000000</td>\n",
       "      <td>0.000000</td>\n",
       "      <td>0.000000</td>\n",
       "      <td>297.073077</td>\n",
       "      <td>63441.1133</td>\n",
       "      <td>30194.145161</td>\n",
       "      <td>29002.339806</td>\n",
       "    </tr>\n",
       "    <tr>\n",
       "      <td>Algeria</td>\n",
       "      <td>DZ</td>\n",
       "      <td>DZA</td>\n",
       "      <td>12</td>\n",
       "      <td>AFR</td>\n",
       "      <td>2017</td>\n",
       "      <td>250.000000</td>\n",
       "      <td>17.000000</td>\n",
       "      <td>0.000000</td>\n",
       "      <td>235.109489</td>\n",
       "      <td>40706.675277</td>\n",
       "      <td>7182.249012</td>\n",
       "      <td>297.073077</td>\n",
       "      <td>63441.1133</td>\n",
       "      <td>30194.145161</td>\n",
       "      <td>29002.339806</td>\n",
       "    </tr>\n",
       "    <tr>\n",
       "      <td>Algeria</td>\n",
       "      <td>DZ</td>\n",
       "      <td>DZA</td>\n",
       "      <td>12</td>\n",
       "      <td>AFR</td>\n",
       "      <td>2018</td>\n",
       "      <td>247.000000</td>\n",
       "      <td>232.037879</td>\n",
       "      <td>0.000000</td>\n",
       "      <td>235.109489</td>\n",
       "      <td>40706.675277</td>\n",
       "      <td>7182.249012</td>\n",
       "      <td>297.073077</td>\n",
       "      <td>63441.1133</td>\n",
       "      <td>30194.145161</td>\n",
       "      <td>29002.339806</td>\n",
       "    </tr>\n",
       "    <tr>\n",
       "      <td>Angola</td>\n",
       "      <td>AO</td>\n",
       "      <td>AGO</td>\n",
       "      <td>24</td>\n",
       "      <td>AFR</td>\n",
       "      <td>2014</td>\n",
       "      <td>193.000000</td>\n",
       "      <td>232.037879</td>\n",
       "      <td>0.549296</td>\n",
       "      <td>235.109489</td>\n",
       "      <td>40706.675277</td>\n",
       "      <td>7182.249012</td>\n",
       "      <td>297.073077</td>\n",
       "      <td>63441.1133</td>\n",
       "      <td>30194.145161</td>\n",
       "      <td>29002.339806</td>\n",
       "    </tr>\n",
       "    <tr>\n",
       "      <td>Angola</td>\n",
       "      <td>AO</td>\n",
       "      <td>AGO</td>\n",
       "      <td>24</td>\n",
       "      <td>AFR</td>\n",
       "      <td>2015</td>\n",
       "      <td>283.000000</td>\n",
       "      <td>232.037879</td>\n",
       "      <td>0.000000</td>\n",
       "      <td>235.109489</td>\n",
       "      <td>40706.675277</td>\n",
       "      <td>7182.249012</td>\n",
       "      <td>297.073077</td>\n",
       "      <td>63441.1133</td>\n",
       "      <td>30194.145161</td>\n",
       "      <td>29002.339806</td>\n",
       "    </tr>\n",
       "    <tr>\n",
       "      <td>Angola</td>\n",
       "      <td>AO</td>\n",
       "      <td>AGO</td>\n",
       "      <td>24</td>\n",
       "      <td>AFR</td>\n",
       "      <td>2016</td>\n",
       "      <td>302.000000</td>\n",
       "      <td>280.000000</td>\n",
       "      <td>0.000000</td>\n",
       "      <td>235.109489</td>\n",
       "      <td>40706.675277</td>\n",
       "      <td>7182.249012</td>\n",
       "      <td>297.073077</td>\n",
       "      <td>63441.1133</td>\n",
       "      <td>30194.145161</td>\n",
       "      <td>29002.339806</td>\n",
       "    </tr>\n",
       "    <tr>\n",
       "      <td>Angola</td>\n",
       "      <td>AO</td>\n",
       "      <td>AGO</td>\n",
       "      <td>24</td>\n",
       "      <td>AFR</td>\n",
       "      <td>2017</td>\n",
       "      <td>302.000000</td>\n",
       "      <td>0.000000</td>\n",
       "      <td>0.000000</td>\n",
       "      <td>235.109489</td>\n",
       "      <td>40706.675277</td>\n",
       "      <td>7182.249012</td>\n",
       "      <td>0.000000</td>\n",
       "      <td>0.0000</td>\n",
       "      <td>0.000000</td>\n",
       "      <td>0.000000</td>\n",
       "    </tr>\n",
       "    <tr>\n",
       "      <td>Angola</td>\n",
       "      <td>AO</td>\n",
       "      <td>AGO</td>\n",
       "      <td>24</td>\n",
       "      <td>AFR</td>\n",
       "      <td>2018</td>\n",
       "      <td>333.000000</td>\n",
       "      <td>9.000000</td>\n",
       "      <td>1.000000</td>\n",
       "      <td>9.000000</td>\n",
       "      <td>5276.000000</td>\n",
       "      <td>5276.000000</td>\n",
       "      <td>297.073077</td>\n",
       "      <td>63441.1133</td>\n",
       "      <td>30194.145161</td>\n",
       "      <td>29002.339806</td>\n",
       "    </tr>\n",
       "    <tr>\n",
       "      <td>Armenia</td>\n",
       "      <td>AM</td>\n",
       "      <td>ARM</td>\n",
       "      <td>51</td>\n",
       "      <td>EUR</td>\n",
       "      <td>2013</td>\n",
       "      <td>423.885246</td>\n",
       "      <td>232.037879</td>\n",
       "      <td>0.549296</td>\n",
       "      <td>235.109489</td>\n",
       "      <td>40706.675277</td>\n",
       "      <td>7182.249012</td>\n",
       "      <td>66.000000</td>\n",
       "      <td>63441.1133</td>\n",
       "      <td>0.000000</td>\n",
       "      <td>0.000000</td>\n",
       "    </tr>\n",
       "  </tbody>\n",
       "</table>\n",
       "</div>"
      ],
      "text/plain": [
       "            iso2 iso3  iso_numeric g_whoregion  year         bmu  \\\n",
       "country                                                            \n",
       "Afghanistan   AF  AFG            4         EMR  2013  423.885246   \n",
       "Afghanistan   AF  AFG            4         EMR  2014  722.000000   \n",
       "Afghanistan   AF  AFG            4         EMR  2015  708.000000   \n",
       "Afghanistan   AF  AFG            4         EMR  2016  778.000000   \n",
       "Afghanistan   AF  AFG            4         EMR  2017  817.000000   \n",
       "Afghanistan   AF  AFG            4         EMR  2018  887.000000   \n",
       "Albania       AL  ALB            8         EUR  2015   28.000000   \n",
       "Albania       AL  ALB            8         EUR  2016   28.000000   \n",
       "Algeria       DZ  DZA           12         AFR  2013  423.885246   \n",
       "Algeria       DZ  DZA           12         AFR  2014  271.000000   \n",
       "Algeria       DZ  DZA           12         AFR  2015   48.000000   \n",
       "Algeria       DZ  DZA           12         AFR  2016  240.000000   \n",
       "Algeria       DZ  DZA           12         AFR  2017  250.000000   \n",
       "Algeria       DZ  DZA           12         AFR  2018  247.000000   \n",
       "Angola        AO  AGO           24         AFR  2014  193.000000   \n",
       "Angola        AO  AGO           24         AFR  2015  283.000000   \n",
       "Angola        AO  AGO           24         AFR  2016  302.000000   \n",
       "Angola        AO  AGO           24         AFR  2017  302.000000   \n",
       "Angola        AO  AGO           24         AFR  2018  333.000000   \n",
       "Armenia       AM  ARM           51         EUR  2013  423.885246   \n",
       "\n",
       "             bmu_community_impl  community_data_available  bmu_ref_data  \\\n",
       "country                                                                   \n",
       "Afghanistan          232.037879                  0.549296    235.109489   \n",
       "Afghanistan          232.037879                  0.549296    661.000000   \n",
       "Afghanistan          539.000000                  1.000000    539.000000   \n",
       "Afghanistan          778.000000                  1.000000    778.000000   \n",
       "Afghanistan          817.000000                  1.000000    817.000000   \n",
       "Afghanistan          887.000000                  1.000000    887.000000   \n",
       "Albania               28.000000                  0.000000    235.109489   \n",
       "Albania              232.037879                  0.000000    235.109489   \n",
       "Algeria              232.037879                  0.549296    235.109489   \n",
       "Algeria              232.037879                  0.549296      0.000000   \n",
       "Algeria               48.000000                  1.000000      0.000000   \n",
       "Algeria              240.000000                  1.000000      0.000000   \n",
       "Algeria               17.000000                  0.000000    235.109489   \n",
       "Algeria              232.037879                  0.000000    235.109489   \n",
       "Angola               232.037879                  0.549296    235.109489   \n",
       "Angola               232.037879                  0.000000    235.109489   \n",
       "Angola               280.000000                  0.000000    235.109489   \n",
       "Angola                 0.000000                  0.000000    235.109489   \n",
       "Angola                 9.000000                  1.000000      9.000000   \n",
       "Armenia              232.037879                  0.549296    235.109489   \n",
       "\n",
       "             notified_ref  notified_ref_community  bmu_rxsupport_data  \\\n",
       "country                                                                 \n",
       "Afghanistan  40706.675277             7182.249012          661.000000   \n",
       "Afghanistan  15946.000000             1088.000000          506.000000   \n",
       "Afghanistan  35878.000000             1146.000000          750.000000   \n",
       "Afghanistan  19710.000000             1857.000000          778.000000   \n",
       "Afghanistan  47406.000000             5214.000000          778.000000   \n",
       "Afghanistan  48421.000000             7021.000000          297.073077   \n",
       "Albania      40706.675277             7182.249012          297.073077   \n",
       "Albania      40706.675277             7182.249012          297.073077   \n",
       "Algeria      40706.675277             7182.249012            0.000000   \n",
       "Algeria          0.000000                0.000000           48.000000   \n",
       "Algeria          0.000000                0.000000            0.000000   \n",
       "Algeria          0.000000                0.000000          297.073077   \n",
       "Algeria      40706.675277             7182.249012          297.073077   \n",
       "Algeria      40706.675277             7182.249012          297.073077   \n",
       "Angola       40706.675277             7182.249012          297.073077   \n",
       "Angola       40706.675277             7182.249012          297.073077   \n",
       "Angola       40706.675277             7182.249012          297.073077   \n",
       "Angola       40706.675277             7182.249012            0.000000   \n",
       "Angola        5276.000000             5276.000000          297.073077   \n",
       "Armenia      40706.675277             7182.249012           66.000000   \n",
       "\n",
       "             bmu_rxsupport_data_coh  rxsupport_community_coh  \\\n",
       "country                                                        \n",
       "Afghanistan              63441.1133              1089.000000   \n",
       "Afghanistan                811.0000               811.000000   \n",
       "Afghanistan              37001.0000               877.000000   \n",
       "Afghanistan              43046.0000              1943.000000   \n",
       "Afghanistan              46640.0000              4123.000000   \n",
       "Afghanistan              63441.1133             30194.145161   \n",
       "Albania                  63441.1133             30194.145161   \n",
       "Albania                  63441.1133             30194.145161   \n",
       "Algeria                  63441.1133                 0.000000   \n",
       "Algeria                      0.0000                 0.000000   \n",
       "Algeria                      0.0000                 0.000000   \n",
       "Algeria                  63441.1133             30194.145161   \n",
       "Algeria                  63441.1133             30194.145161   \n",
       "Algeria                  63441.1133             30194.145161   \n",
       "Angola                   63441.1133             30194.145161   \n",
       "Angola                   63441.1133             30194.145161   \n",
       "Angola                   63441.1133             30194.145161   \n",
       "Angola                       0.0000                 0.000000   \n",
       "Angola                   63441.1133             30194.145161   \n",
       "Armenia                  63441.1133                 0.000000   \n",
       "\n",
       "             rxsupport_community_succ  \n",
       "country                                \n",
       "Afghanistan                991.000000  \n",
       "Afghanistan                811.000000  \n",
       "Afghanistan                875.000000  \n",
       "Afghanistan               1803.000000  \n",
       "Afghanistan              29002.339806  \n",
       "Afghanistan              29002.339806  \n",
       "Albania                  29002.339806  \n",
       "Albania                  29002.339806  \n",
       "Algeria                      0.000000  \n",
       "Algeria                      0.000000  \n",
       "Algeria                      0.000000  \n",
       "Algeria                  29002.339806  \n",
       "Algeria                  29002.339806  \n",
       "Algeria                  29002.339806  \n",
       "Angola                   29002.339806  \n",
       "Angola                   29002.339806  \n",
       "Angola                   29002.339806  \n",
       "Angola                       0.000000  \n",
       "Angola                   29002.339806  \n",
       "Armenia                      0.000000  "
      ]
     },
     "execution_count": 31,
     "metadata": {},
     "output_type": "execute_result"
    }
   ],
   "source": [
    "dataset.head(20)"
   ]
  },
  {
   "cell_type": "markdown",
   "metadata": {},
   "source": [
    "### Next, let's know the number of regions and the specific regions that were attended to in each year"
   ]
  },
  {
   "cell_type": "markdown",
   "metadata": {},
   "source": [
    "### All information about 2013 activities is extracted below"
   ]
  },
  {
   "cell_type": "code",
   "execution_count": 32,
   "metadata": {
    "scrolled": true
   },
   "outputs": [
    {
     "data": {
      "text/html": [
       "<div>\n",
       "<style scoped>\n",
       "    .dataframe tbody tr th:only-of-type {\n",
       "        vertical-align: middle;\n",
       "    }\n",
       "\n",
       "    .dataframe tbody tr th {\n",
       "        vertical-align: top;\n",
       "    }\n",
       "\n",
       "    .dataframe thead th {\n",
       "        text-align: right;\n",
       "    }\n",
       "</style>\n",
       "<table border=\"1\" class=\"dataframe\">\n",
       "  <thead>\n",
       "    <tr style=\"text-align: right;\">\n",
       "      <th></th>\n",
       "      <th>iso2</th>\n",
       "      <th>iso3</th>\n",
       "      <th>iso_numeric</th>\n",
       "      <th>g_whoregion</th>\n",
       "      <th>year</th>\n",
       "      <th>bmu</th>\n",
       "      <th>bmu_community_impl</th>\n",
       "      <th>community_data_available</th>\n",
       "      <th>bmu_ref_data</th>\n",
       "      <th>notified_ref</th>\n",
       "      <th>notified_ref_community</th>\n",
       "      <th>bmu_rxsupport_data</th>\n",
       "      <th>bmu_rxsupport_data_coh</th>\n",
       "      <th>rxsupport_community_coh</th>\n",
       "      <th>rxsupport_community_succ</th>\n",
       "    </tr>\n",
       "    <tr>\n",
       "      <th>country</th>\n",
       "      <th></th>\n",
       "      <th></th>\n",
       "      <th></th>\n",
       "      <th></th>\n",
       "      <th></th>\n",
       "      <th></th>\n",
       "      <th></th>\n",
       "      <th></th>\n",
       "      <th></th>\n",
       "      <th></th>\n",
       "      <th></th>\n",
       "      <th></th>\n",
       "      <th></th>\n",
       "      <th></th>\n",
       "      <th></th>\n",
       "    </tr>\n",
       "  </thead>\n",
       "  <tbody>\n",
       "    <tr>\n",
       "      <td>Afghanistan</td>\n",
       "      <td>AF</td>\n",
       "      <td>AFG</td>\n",
       "      <td>4</td>\n",
       "      <td>EMR</td>\n",
       "      <td>2013</td>\n",
       "      <td>423.885246</td>\n",
       "      <td>232.037879</td>\n",
       "      <td>0.549296</td>\n",
       "      <td>235.109489</td>\n",
       "      <td>40706.675277</td>\n",
       "      <td>7182.249012</td>\n",
       "      <td>661.0</td>\n",
       "      <td>63441.1133</td>\n",
       "      <td>1089.0</td>\n",
       "      <td>991.0</td>\n",
       "    </tr>\n",
       "    <tr>\n",
       "      <td>Algeria</td>\n",
       "      <td>DZ</td>\n",
       "      <td>DZA</td>\n",
       "      <td>12</td>\n",
       "      <td>AFR</td>\n",
       "      <td>2013</td>\n",
       "      <td>423.885246</td>\n",
       "      <td>232.037879</td>\n",
       "      <td>0.549296</td>\n",
       "      <td>235.109489</td>\n",
       "      <td>40706.675277</td>\n",
       "      <td>7182.249012</td>\n",
       "      <td>0.0</td>\n",
       "      <td>63441.1133</td>\n",
       "      <td>0.0</td>\n",
       "      <td>0.0</td>\n",
       "    </tr>\n",
       "    <tr>\n",
       "      <td>Armenia</td>\n",
       "      <td>AM</td>\n",
       "      <td>ARM</td>\n",
       "      <td>51</td>\n",
       "      <td>EUR</td>\n",
       "      <td>2013</td>\n",
       "      <td>423.885246</td>\n",
       "      <td>232.037879</td>\n",
       "      <td>0.549296</td>\n",
       "      <td>235.109489</td>\n",
       "      <td>40706.675277</td>\n",
       "      <td>7182.249012</td>\n",
       "      <td>66.0</td>\n",
       "      <td>63441.1133</td>\n",
       "      <td>0.0</td>\n",
       "      <td>0.0</td>\n",
       "    </tr>\n",
       "    <tr>\n",
       "      <td>Azerbaijan</td>\n",
       "      <td>AZ</td>\n",
       "      <td>AZE</td>\n",
       "      <td>31</td>\n",
       "      <td>EUR</td>\n",
       "      <td>2013</td>\n",
       "      <td>423.885246</td>\n",
       "      <td>232.037879</td>\n",
       "      <td>0.549296</td>\n",
       "      <td>235.109489</td>\n",
       "      <td>40706.675277</td>\n",
       "      <td>7182.249012</td>\n",
       "      <td>0.0</td>\n",
       "      <td>63441.1133</td>\n",
       "      <td>0.0</td>\n",
       "      <td>0.0</td>\n",
       "    </tr>\n",
       "    <tr>\n",
       "      <td>Botswana</td>\n",
       "      <td>BW</td>\n",
       "      <td>BWA</td>\n",
       "      <td>72</td>\n",
       "      <td>AFR</td>\n",
       "      <td>2013</td>\n",
       "      <td>423.885246</td>\n",
       "      <td>232.037879</td>\n",
       "      <td>0.549296</td>\n",
       "      <td>235.109489</td>\n",
       "      <td>40706.675277</td>\n",
       "      <td>7182.249012</td>\n",
       "      <td>27.0</td>\n",
       "      <td>63441.1133</td>\n",
       "      <td>5316.0</td>\n",
       "      <td>3605.0</td>\n",
       "    </tr>\n",
       "  </tbody>\n",
       "</table>\n",
       "</div>"
      ],
      "text/plain": [
       "            iso2 iso3  iso_numeric g_whoregion  year         bmu  \\\n",
       "country                                                            \n",
       "Afghanistan   AF  AFG            4         EMR  2013  423.885246   \n",
       "Algeria       DZ  DZA           12         AFR  2013  423.885246   \n",
       "Armenia       AM  ARM           51         EUR  2013  423.885246   \n",
       "Azerbaijan    AZ  AZE           31         EUR  2013  423.885246   \n",
       "Botswana      BW  BWA           72         AFR  2013  423.885246   \n",
       "\n",
       "             bmu_community_impl  community_data_available  bmu_ref_data  \\\n",
       "country                                                                   \n",
       "Afghanistan          232.037879                  0.549296    235.109489   \n",
       "Algeria              232.037879                  0.549296    235.109489   \n",
       "Armenia              232.037879                  0.549296    235.109489   \n",
       "Azerbaijan           232.037879                  0.549296    235.109489   \n",
       "Botswana             232.037879                  0.549296    235.109489   \n",
       "\n",
       "             notified_ref  notified_ref_community  bmu_rxsupport_data  \\\n",
       "country                                                                 \n",
       "Afghanistan  40706.675277             7182.249012               661.0   \n",
       "Algeria      40706.675277             7182.249012                 0.0   \n",
       "Armenia      40706.675277             7182.249012                66.0   \n",
       "Azerbaijan   40706.675277             7182.249012                 0.0   \n",
       "Botswana     40706.675277             7182.249012                27.0   \n",
       "\n",
       "             bmu_rxsupport_data_coh  rxsupport_community_coh  \\\n",
       "country                                                        \n",
       "Afghanistan              63441.1133                   1089.0   \n",
       "Algeria                  63441.1133                      0.0   \n",
       "Armenia                  63441.1133                      0.0   \n",
       "Azerbaijan               63441.1133                      0.0   \n",
       "Botswana                 63441.1133                   5316.0   \n",
       "\n",
       "             rxsupport_community_succ  \n",
       "country                                \n",
       "Afghanistan                     991.0  \n",
       "Algeria                           0.0  \n",
       "Armenia                           0.0  \n",
       "Azerbaijan                        0.0  \n",
       "Botswana                       3605.0  "
      ]
     },
     "execution_count": 32,
     "metadata": {},
     "output_type": "execute_result"
    }
   ],
   "source": [
    "extract013 = dataset[dataset[\"year\"] == 2013]\n",
    "extract013.head()"
   ]
  },
  {
   "cell_type": "markdown",
   "metadata": {},
   "source": [
    "### Then, from the Dataset, information about the countries attended to in 2013 will be obtained"
   ]
  },
  {
   "cell_type": "code",
   "execution_count": 33,
   "metadata": {
    "scrolled": false
   },
   "outputs": [
    {
     "data": {
      "text/plain": [
       "country\n",
       "Afghanistan                         1\n",
       "Algeria                             1\n",
       "Armenia                             1\n",
       "Azerbaijan                          1\n",
       "Botswana                            1\n",
       "Bulgaria                            1\n",
       "Burkina Faso                        1\n",
       "Burundi                             1\n",
       "Cabo Verde                          1\n",
       "Cameroon                            1\n",
       "Chad                                1\n",
       "Côte d'Ivoire                       1\n",
       "Democratic Republic of the Congo    1\n",
       "Eritrea                             1\n",
       "Ethiopia                            1\n",
       "Name: year, dtype: int64"
      ]
     },
     "execution_count": 33,
     "metadata": {},
     "output_type": "execute_result"
    }
   ],
   "source": [
    "countries013 = extract013[\"year\"].groupby(extract013.index)\n",
    "countries13 = countries013.size()\n",
    "countries13.head(15)"
   ]
  },
  {
   "cell_type": "markdown",
   "metadata": {},
   "source": [
    "### To determine how many regions and countries were attended to in 2013"
   ]
  },
  {
   "cell_type": "code",
   "execution_count": 34,
   "metadata": {},
   "outputs": [
    {
     "data": {
      "text/plain": [
       "g_whoregion\n",
       "AFR    29\n",
       "EMR     2\n",
       "EUR     8\n",
       "SEA     6\n",
       "WPR     4\n",
       "Name: year, dtype: int64"
      ]
     },
     "execution_count": 34,
     "metadata": {},
     "output_type": "execute_result"
    }
   ],
   "source": [
    "regions013 = extract013.year.groupby(extract013[\"g_whoregion\"])\n",
    "regions13 = regions013.count()\n",
    "regions13"
   ]
  },
  {
   "cell_type": "code",
   "execution_count": 35,
   "metadata": {
    "scrolled": true
   },
   "outputs": [
    {
     "name": "stdout",
     "output_type": "stream",
     "text": [
      "The number of countries attended to in year 2013 is 49 \n",
      "\n",
      "\n",
      "The number of regions attended to in year 2013 is 5\n"
     ]
    }
   ],
   "source": [
    "print(\"The number of countries attended to in year 2013 is\",countries13.values.sum(),\"\\n\\n\\nThe number of regions attended to in year 2013 is\",len(regions13.index))"
   ]
  },
  {
   "cell_type": "code",
   "execution_count": 36,
   "metadata": {},
   "outputs": [
    {
     "data": {
      "text/plain": [
       "Text(0.5, 0, 'Frequency')"
      ]
     },
     "execution_count": 36,
     "metadata": {},
     "output_type": "execute_result"
    },
    {
     "data": {
      "image/png": "[encoded data removed]",
      "text/plain": [
       "<Figure size 432x288 with 1 Axes>"
      ]
     },
     "metadata": {
      "needs_background": "light"
     },
     "output_type": "display_data"
    }
   ],
   "source": [
    "sorted_2013 = regions13.sort_values()\n",
    "sorted_2013.plot(kind = \"barh\")\n",
    "plt.title(\"Regional Activities For Year \\'2013\\'\", alpha = 0.85)\n",
    "plt.ylabel(\"Regions\", alpha = 0.7, fontstyle = \"italic\")\n",
    "plt.xlabel(\"Frequency\", alpha = 0.7, fontstyle = 'italic')"
   ]
  },
  {
   "cell_type": "markdown",
   "metadata": {
    "scrolled": true
   },
   "source": [
    "### All information about 2014 will be extracted"
   ]
  },
  {
   "cell_type": "code",
   "execution_count": 37,
   "metadata": {},
   "outputs": [
    {
     "data": {
      "text/html": [
       "<div>\n",
       "<style scoped>\n",
       "    .dataframe tbody tr th:only-of-type {\n",
       "        vertical-align: middle;\n",
       "    }\n",
       "\n",
       "    .dataframe tbody tr th {\n",
       "        vertical-align: top;\n",
       "    }\n",
       "\n",
       "    .dataframe thead th {\n",
       "        text-align: right;\n",
       "    }\n",
       "</style>\n",
       "<table border=\"1\" class=\"dataframe\">\n",
       "  <thead>\n",
       "    <tr style=\"text-align: right;\">\n",
       "      <th></th>\n",
       "      <th>iso2</th>\n",
       "      <th>iso3</th>\n",
       "      <th>iso_numeric</th>\n",
       "      <th>g_whoregion</th>\n",
       "      <th>year</th>\n",
       "      <th>bmu</th>\n",
       "      <th>bmu_community_impl</th>\n",
       "      <th>community_data_available</th>\n",
       "      <th>bmu_ref_data</th>\n",
       "      <th>notified_ref</th>\n",
       "      <th>notified_ref_community</th>\n",
       "      <th>bmu_rxsupport_data</th>\n",
       "      <th>bmu_rxsupport_data_coh</th>\n",
       "      <th>rxsupport_community_coh</th>\n",
       "      <th>rxsupport_community_succ</th>\n",
       "    </tr>\n",
       "    <tr>\n",
       "      <th>country</th>\n",
       "      <th></th>\n",
       "      <th></th>\n",
       "      <th></th>\n",
       "      <th></th>\n",
       "      <th></th>\n",
       "      <th></th>\n",
       "      <th></th>\n",
       "      <th></th>\n",
       "      <th></th>\n",
       "      <th></th>\n",
       "      <th></th>\n",
       "      <th></th>\n",
       "      <th></th>\n",
       "      <th></th>\n",
       "      <th></th>\n",
       "    </tr>\n",
       "  </thead>\n",
       "  <tbody>\n",
       "    <tr>\n",
       "      <td>Afghanistan</td>\n",
       "      <td>AF</td>\n",
       "      <td>AFG</td>\n",
       "      <td>4</td>\n",
       "      <td>EMR</td>\n",
       "      <td>2014</td>\n",
       "      <td>722.0</td>\n",
       "      <td>232.037879</td>\n",
       "      <td>0.549296</td>\n",
       "      <td>661.000000</td>\n",
       "      <td>15946.000000</td>\n",
       "      <td>1088.000000</td>\n",
       "      <td>506.000000</td>\n",
       "      <td>811.0000</td>\n",
       "      <td>811.000000</td>\n",
       "      <td>811.000000</td>\n",
       "    </tr>\n",
       "    <tr>\n",
       "      <td>Algeria</td>\n",
       "      <td>DZ</td>\n",
       "      <td>DZA</td>\n",
       "      <td>12</td>\n",
       "      <td>AFR</td>\n",
       "      <td>2014</td>\n",
       "      <td>271.0</td>\n",
       "      <td>232.037879</td>\n",
       "      <td>0.549296</td>\n",
       "      <td>0.000000</td>\n",
       "      <td>0.000000</td>\n",
       "      <td>0.000000</td>\n",
       "      <td>48.000000</td>\n",
       "      <td>0.0000</td>\n",
       "      <td>0.000000</td>\n",
       "      <td>0.000000</td>\n",
       "    </tr>\n",
       "    <tr>\n",
       "      <td>Angola</td>\n",
       "      <td>AO</td>\n",
       "      <td>AGO</td>\n",
       "      <td>24</td>\n",
       "      <td>AFR</td>\n",
       "      <td>2014</td>\n",
       "      <td>193.0</td>\n",
       "      <td>232.037879</td>\n",
       "      <td>0.549296</td>\n",
       "      <td>235.109489</td>\n",
       "      <td>40706.675277</td>\n",
       "      <td>7182.249012</td>\n",
       "      <td>297.073077</td>\n",
       "      <td>63441.1133</td>\n",
       "      <td>30194.145161</td>\n",
       "      <td>29002.339806</td>\n",
       "    </tr>\n",
       "    <tr>\n",
       "      <td>Armenia</td>\n",
       "      <td>AM</td>\n",
       "      <td>ARM</td>\n",
       "      <td>51</td>\n",
       "      <td>EUR</td>\n",
       "      <td>2014</td>\n",
       "      <td>66.0</td>\n",
       "      <td>232.037879</td>\n",
       "      <td>0.549296</td>\n",
       "      <td>66.000000</td>\n",
       "      <td>1342.000000</td>\n",
       "      <td>0.000000</td>\n",
       "      <td>297.073077</td>\n",
       "      <td>63441.1133</td>\n",
       "      <td>30194.145161</td>\n",
       "      <td>29002.339806</td>\n",
       "    </tr>\n",
       "    <tr>\n",
       "      <td>Azerbaijan</td>\n",
       "      <td>AZ</td>\n",
       "      <td>AZE</td>\n",
       "      <td>31</td>\n",
       "      <td>EUR</td>\n",
       "      <td>2014</td>\n",
       "      <td>69.0</td>\n",
       "      <td>232.037879</td>\n",
       "      <td>0.549296</td>\n",
       "      <td>0.000000</td>\n",
       "      <td>5781.000000</td>\n",
       "      <td>0.000000</td>\n",
       "      <td>297.073077</td>\n",
       "      <td>63441.1133</td>\n",
       "      <td>30194.145161</td>\n",
       "      <td>29002.339806</td>\n",
       "    </tr>\n",
       "  </tbody>\n",
       "</table>\n",
       "</div>"
      ],
      "text/plain": [
       "            iso2 iso3  iso_numeric g_whoregion  year    bmu  \\\n",
       "country                                                       \n",
       "Afghanistan   AF  AFG            4         EMR  2014  722.0   \n",
       "Algeria       DZ  DZA           12         AFR  2014  271.0   \n",
       "Angola        AO  AGO           24         AFR  2014  193.0   \n",
       "Armenia       AM  ARM           51         EUR  2014   66.0   \n",
       "Azerbaijan    AZ  AZE           31         EUR  2014   69.0   \n",
       "\n",
       "             bmu_community_impl  community_data_available  bmu_ref_data  \\\n",
       "country                                                                   \n",
       "Afghanistan          232.037879                  0.549296    661.000000   \n",
       "Algeria              232.037879                  0.549296      0.000000   \n",
       "Angola               232.037879                  0.549296    235.109489   \n",
       "Armenia              232.037879                  0.549296     66.000000   \n",
       "Azerbaijan           232.037879                  0.549296      0.000000   \n",
       "\n",
       "             notified_ref  notified_ref_community  bmu_rxsupport_data  \\\n",
       "country                                                                 \n",
       "Afghanistan  15946.000000             1088.000000          506.000000   \n",
       "Algeria          0.000000                0.000000           48.000000   \n",
       "Angola       40706.675277             7182.249012          297.073077   \n",
       "Armenia       1342.000000                0.000000          297.073077   \n",
       "Azerbaijan    5781.000000                0.000000          297.073077   \n",
       "\n",
       "             bmu_rxsupport_data_coh  rxsupport_community_coh  \\\n",
       "country                                                        \n",
       "Afghanistan                811.0000               811.000000   \n",
       "Algeria                      0.0000                 0.000000   \n",
       "Angola                   63441.1133             30194.145161   \n",
       "Armenia                  63441.1133             30194.145161   \n",
       "Azerbaijan               63441.1133             30194.145161   \n",
       "\n",
       "             rxsupport_community_succ  \n",
       "country                                \n",
       "Afghanistan                811.000000  \n",
       "Algeria                      0.000000  \n",
       "Angola                   29002.339806  \n",
       "Armenia                  29002.339806  \n",
       "Azerbaijan               29002.339806  "
      ]
     },
     "execution_count": 37,
     "metadata": {},
     "output_type": "execute_result"
    }
   ],
   "source": [
    "extract014 = dataset[dataset.year == 2014]\n",
    "extract014.head()"
   ]
  },
  {
   "cell_type": "markdown",
   "metadata": {},
   "source": [
    "#### To determine the regions and countries that were attended to in the year 2014, the data was extracted from the dataset dataFrame and the needed information was retrieved from it"
   ]
  },
  {
   "cell_type": "code",
   "execution_count": 38,
   "metadata": {
    "scrolled": false
   },
   "outputs": [
    {
     "data": {
      "text/plain": [
       "country\n",
       "Afghanistan                    1\n",
       "Algeria                        1\n",
       "Angola                         1\n",
       "Armenia                        1\n",
       "Azerbaijan                     1\n",
       "                              ..\n",
       "United Republic of Tanzania    1\n",
       "Uzbekistan                     1\n",
       "Viet Nam                       1\n",
       "Zambia                         1\n",
       "Zimbabwe                       1\n",
       "Name: year, Length: 75, dtype: int64"
      ]
     },
     "execution_count": 38,
     "metadata": {},
     "output_type": "execute_result"
    }
   ],
   "source": [
    "countries014 = extract014.year.groupby(extract014.index)\n",
    "countries14 = countries014.count()\n",
    "countries14"
   ]
  },
  {
   "cell_type": "code",
   "execution_count": 39,
   "metadata": {},
   "outputs": [
    {
     "data": {
      "text/plain": [
       "g_whoregion\n",
       "AFR    39\n",
       "AMR     3\n",
       "EMR     6\n",
       "EUR    11\n",
       "SEA     9\n",
       "WPR     7\n",
       "Name: year, dtype: int64"
      ]
     },
     "execution_count": 39,
     "metadata": {},
     "output_type": "execute_result"
    }
   ],
   "source": [
    "regions014 = extract014.year.groupby(extract014[\"g_whoregion\"])\n",
    "regions14 = regions014.size()\n",
    "regions14"
   ]
  },
  {
   "cell_type": "code",
   "execution_count": 40,
   "metadata": {},
   "outputs": [
    {
     "name": "stdout",
     "output_type": "stream",
     "text": [
      "The number of countries attended to in year 2014 is 75 \n",
      "\n",
      "\n",
      "The number of regions attended to in year 2014 is 6\n"
     ]
    }
   ],
   "source": [
    "print(\"The number of countries attended to in year 2014 is\",countries14.values.sum(),\"\\n\\n\\nThe number of regions attended to in year 2014 is\",len(regions14.index))"
   ]
  },
  {
   "cell_type": "code",
   "execution_count": 41,
   "metadata": {},
   "outputs": [
    {
     "data": {
      "text/plain": [
       "Text(0.5, 0, 'Frequency')"
      ]
     },
     "execution_count": 41,
     "metadata": {},
     "output_type": "execute_result"
    },
    {
     "data": {
      "image/png": "[encoded data removed]",
      "text/plain": [
       "<Figure size 432x288 with 1 Axes>"
      ]
     },
     "metadata": {
      "needs_background": "light"
     },
     "output_type": "display_data"
    }
   ],
   "source": [
    "sorted_2014 = regions14.sort_values()\n",
    "sorted_2014.plot(kind = \"barh\")\n",
    "plt.title(\"Regional Activities For Year \\'2014\\'\", alpha = 0.85)\n",
    "plt.ylabel(\"Regions\", alpha = 0.7, fontstyle = \"italic\")\n",
    "plt.xlabel(\"Frequency\", alpha = 0.7, fontstyle = 'italic')"
   ]
  },
  {
   "cell_type": "markdown",
   "metadata": {},
   "source": [
    "### All information about 2015 is extracted"
   ]
  },
  {
   "cell_type": "code",
   "execution_count": 42,
   "metadata": {
    "scrolled": true
   },
   "outputs": [
    {
     "data": {
      "text/html": [
       "<div>\n",
       "<style scoped>\n",
       "    .dataframe tbody tr th:only-of-type {\n",
       "        vertical-align: middle;\n",
       "    }\n",
       "\n",
       "    .dataframe tbody tr th {\n",
       "        vertical-align: top;\n",
       "    }\n",
       "\n",
       "    .dataframe thead th {\n",
       "        text-align: right;\n",
       "    }\n",
       "</style>\n",
       "<table border=\"1\" class=\"dataframe\">\n",
       "  <thead>\n",
       "    <tr style=\"text-align: right;\">\n",
       "      <th></th>\n",
       "      <th>iso2</th>\n",
       "      <th>iso3</th>\n",
       "      <th>iso_numeric</th>\n",
       "      <th>g_whoregion</th>\n",
       "      <th>year</th>\n",
       "      <th>bmu</th>\n",
       "      <th>bmu_community_impl</th>\n",
       "      <th>community_data_available</th>\n",
       "      <th>bmu_ref_data</th>\n",
       "      <th>notified_ref</th>\n",
       "      <th>notified_ref_community</th>\n",
       "      <th>bmu_rxsupport_data</th>\n",
       "      <th>bmu_rxsupport_data_coh</th>\n",
       "      <th>rxsupport_community_coh</th>\n",
       "      <th>rxsupport_community_succ</th>\n",
       "    </tr>\n",
       "    <tr>\n",
       "      <th>country</th>\n",
       "      <th></th>\n",
       "      <th></th>\n",
       "      <th></th>\n",
       "      <th></th>\n",
       "      <th></th>\n",
       "      <th></th>\n",
       "      <th></th>\n",
       "      <th></th>\n",
       "      <th></th>\n",
       "      <th></th>\n",
       "      <th></th>\n",
       "      <th></th>\n",
       "      <th></th>\n",
       "      <th></th>\n",
       "      <th></th>\n",
       "    </tr>\n",
       "  </thead>\n",
       "  <tbody>\n",
       "    <tr>\n",
       "      <td>Afghanistan</td>\n",
       "      <td>AF</td>\n",
       "      <td>AFG</td>\n",
       "      <td>4</td>\n",
       "      <td>EMR</td>\n",
       "      <td>2015</td>\n",
       "      <td>708.0</td>\n",
       "      <td>539.000000</td>\n",
       "      <td>1.0</td>\n",
       "      <td>539.000000</td>\n",
       "      <td>35878.000000</td>\n",
       "      <td>1146.000000</td>\n",
       "      <td>750.000000</td>\n",
       "      <td>37001.0000</td>\n",
       "      <td>877.000000</td>\n",
       "      <td>875.000000</td>\n",
       "    </tr>\n",
       "    <tr>\n",
       "      <td>Albania</td>\n",
       "      <td>AL</td>\n",
       "      <td>ALB</td>\n",
       "      <td>8</td>\n",
       "      <td>EUR</td>\n",
       "      <td>2015</td>\n",
       "      <td>28.0</td>\n",
       "      <td>28.000000</td>\n",
       "      <td>0.0</td>\n",
       "      <td>235.109489</td>\n",
       "      <td>40706.675277</td>\n",
       "      <td>7182.249012</td>\n",
       "      <td>297.073077</td>\n",
       "      <td>63441.1133</td>\n",
       "      <td>30194.145161</td>\n",
       "      <td>29002.339806</td>\n",
       "    </tr>\n",
       "    <tr>\n",
       "      <td>Algeria</td>\n",
       "      <td>DZ</td>\n",
       "      <td>DZA</td>\n",
       "      <td>12</td>\n",
       "      <td>AFR</td>\n",
       "      <td>2015</td>\n",
       "      <td>48.0</td>\n",
       "      <td>48.000000</td>\n",
       "      <td>1.0</td>\n",
       "      <td>0.000000</td>\n",
       "      <td>0.000000</td>\n",
       "      <td>0.000000</td>\n",
       "      <td>0.000000</td>\n",
       "      <td>0.0000</td>\n",
       "      <td>0.000000</td>\n",
       "      <td>0.000000</td>\n",
       "    </tr>\n",
       "    <tr>\n",
       "      <td>Angola</td>\n",
       "      <td>AO</td>\n",
       "      <td>AGO</td>\n",
       "      <td>24</td>\n",
       "      <td>AFR</td>\n",
       "      <td>2015</td>\n",
       "      <td>283.0</td>\n",
       "      <td>232.037879</td>\n",
       "      <td>0.0</td>\n",
       "      <td>235.109489</td>\n",
       "      <td>40706.675277</td>\n",
       "      <td>7182.249012</td>\n",
       "      <td>297.073077</td>\n",
       "      <td>63441.1133</td>\n",
       "      <td>30194.145161</td>\n",
       "      <td>29002.339806</td>\n",
       "    </tr>\n",
       "    <tr>\n",
       "      <td>Armenia</td>\n",
       "      <td>AM</td>\n",
       "      <td>ARM</td>\n",
       "      <td>51</td>\n",
       "      <td>EUR</td>\n",
       "      <td>2015</td>\n",
       "      <td>66.0</td>\n",
       "      <td>0.000000</td>\n",
       "      <td>0.0</td>\n",
       "      <td>235.109489</td>\n",
       "      <td>40706.675277</td>\n",
       "      <td>7182.249012</td>\n",
       "      <td>297.073077</td>\n",
       "      <td>63441.1133</td>\n",
       "      <td>30194.145161</td>\n",
       "      <td>29002.339806</td>\n",
       "    </tr>\n",
       "  </tbody>\n",
       "</table>\n",
       "</div>"
      ],
      "text/plain": [
       "            iso2 iso3  iso_numeric g_whoregion  year    bmu  \\\n",
       "country                                                       \n",
       "Afghanistan   AF  AFG            4         EMR  2015  708.0   \n",
       "Albania       AL  ALB            8         EUR  2015   28.0   \n",
       "Algeria       DZ  DZA           12         AFR  2015   48.0   \n",
       "Angola        AO  AGO           24         AFR  2015  283.0   \n",
       "Armenia       AM  ARM           51         EUR  2015   66.0   \n",
       "\n",
       "             bmu_community_impl  community_data_available  bmu_ref_data  \\\n",
       "country                                                                   \n",
       "Afghanistan          539.000000                       1.0    539.000000   \n",
       "Albania               28.000000                       0.0    235.109489   \n",
       "Algeria               48.000000                       1.0      0.000000   \n",
       "Angola               232.037879                       0.0    235.109489   \n",
       "Armenia                0.000000                       0.0    235.109489   \n",
       "\n",
       "             notified_ref  notified_ref_community  bmu_rxsupport_data  \\\n",
       "country                                                                 \n",
       "Afghanistan  35878.000000             1146.000000          750.000000   \n",
       "Albania      40706.675277             7182.249012          297.073077   \n",
       "Algeria          0.000000                0.000000            0.000000   \n",
       "Angola       40706.675277             7182.249012          297.073077   \n",
       "Armenia      40706.675277             7182.249012          297.073077   \n",
       "\n",
       "             bmu_rxsupport_data_coh  rxsupport_community_coh  \\\n",
       "country                                                        \n",
       "Afghanistan              37001.0000               877.000000   \n",
       "Albania                  63441.1133             30194.145161   \n",
       "Algeria                      0.0000                 0.000000   \n",
       "Angola                   63441.1133             30194.145161   \n",
       "Armenia                  63441.1133             30194.145161   \n",
       "\n",
       "             rxsupport_community_succ  \n",
       "country                                \n",
       "Afghanistan                875.000000  \n",
       "Albania                  29002.339806  \n",
       "Algeria                      0.000000  \n",
       "Angola                   29002.339806  \n",
       "Armenia                  29002.339806  "
      ]
     },
     "execution_count": 42,
     "metadata": {},
     "output_type": "execute_result"
    }
   ],
   "source": [
    "extract015 = dataset[dataset[\"year\"] == 2015]\n",
    "extract015.head()"
   ]
  },
  {
   "cell_type": "code",
   "execution_count": 43,
   "metadata": {},
   "outputs": [
    {
     "data": {
      "text/plain": [
       "array([2015], dtype=int64)"
      ]
     },
     "execution_count": 43,
     "metadata": {},
     "output_type": "execute_result"
    }
   ],
   "source": [
    "extract015[\"year\"].unique()"
   ]
  },
  {
   "cell_type": "markdown",
   "metadata": {},
   "source": [
    "### To determine the number of regions and countries that were attended to in the year 2015, the information was extracted from the dataset DataFrame and the needed details was retrieved from it"
   ]
  },
  {
   "cell_type": "code",
   "execution_count": 44,
   "metadata": {
    "scrolled": true
   },
   "outputs": [
    {
     "data": {
      "text/plain": [
       "country\n",
       "Afghanistan                         1\n",
       "Albania                             1\n",
       "Algeria                             1\n",
       "Angola                              1\n",
       "Armenia                             1\n",
       "Azerbaijan                          1\n",
       "Bangladesh                          1\n",
       "Belarus                             1\n",
       "Benin                               1\n",
       "Bhutan                              1\n",
       "Bolivia (Plurinational State of)    1\n",
       "Bosnia and Herzegovina              1\n",
       "Botswana                            1\n",
       "Brazil                              1\n",
       "Bulgaria                            1\n",
       "Name: year, dtype: int64"
      ]
     },
     "execution_count": 44,
     "metadata": {},
     "output_type": "execute_result"
    }
   ],
   "source": [
    "countries015 = extract015.year.groupby(extract015.index)\n",
    "countries15 = countries015.count()\n",
    "countries15.head(15)"
   ]
  },
  {
   "cell_type": "code",
   "execution_count": 45,
   "metadata": {},
   "outputs": [
    {
     "data": {
      "text/plain": [
       "g_whoregion\n",
       "AFR    42\n",
       "AMR    17\n",
       "EMR    13\n",
       "EUR    20\n",
       "SEA     9\n",
       "WPR    12\n",
       "Name: year, dtype: int64"
      ]
     },
     "execution_count": 45,
     "metadata": {},
     "output_type": "execute_result"
    }
   ],
   "source": [
    "regions015 = extract015.year.groupby(extract015[\"g_whoregion\"])\n",
    "regions15 = regions015.size()\n",
    "regions15"
   ]
  },
  {
   "cell_type": "code",
   "execution_count": 46,
   "metadata": {},
   "outputs": [
    {
     "name": "stdout",
     "output_type": "stream",
     "text": [
      "The number of countries attended to in the year 2015 is 113 \n",
      "\n",
      "\n",
      "The number p regions attended to in the year 2015 is 6\n"
     ]
    }
   ],
   "source": [
    "print(\"The number of countries attended to in the year 2015 is\",countries15.values.sum(),\"\\n\\n\\nThe number p regions attended to in the year 2015 is\",len(regions15))"
   ]
  },
  {
   "cell_type": "code",
   "execution_count": 47,
   "metadata": {},
   "outputs": [
    {
     "data": {
      "text/plain": [
       "Text(0.5, 0, 'Frequency')"
      ]
     },
     "execution_count": 47,
     "metadata": {},
     "output_type": "execute_result"
    },
    {
     "data": {
      "image/png": "[encoded data removed]",
      "text/plain": [
       "<Figure size 432x288 with 1 Axes>"
      ]
     },
     "metadata": {
      "needs_background": "light"
     },
     "output_type": "display_data"
    }
   ],
   "source": [
    "sorted_2015 = regions15.sort_values()\n",
    "sorted_2015.plot(kind = \"barh\")\n",
    "plt.title(\"Regional Activities For Year \\'2015\\'\", alpha = 0.85)\n",
    "plt.ylabel(\"Regions\", alpha = 0.7, fontstyle = \"italic\")\n",
    "plt.xlabel(\"Frequency\", alpha = 0.7, fontstyle = 'italic')"
   ]
  },
  {
   "cell_type": "markdown",
   "metadata": {},
   "source": [
    "### All information about 2016 is extracted"
   ]
  },
  {
   "cell_type": "code",
   "execution_count": 48,
   "metadata": {
    "scrolled": true
   },
   "outputs": [
    {
     "data": {
      "text/plain": [
       "array([2016], dtype=int64)"
      ]
     },
     "execution_count": 48,
     "metadata": {},
     "output_type": "execute_result"
    }
   ],
   "source": [
    "extract016 = dataset[dataset[\"year\"] == 2016]\n",
    "extract016.head()\n",
    "extract016.year.unique()"
   ]
  },
  {
   "cell_type": "markdown",
   "metadata": {},
   "source": [
    "### To determine the number of regions and countries that were attended to in the year 2016, the dataset was extracted from the corresponding DataFrame and the needed details was retrieved from there"
   ]
  },
  {
   "cell_type": "code",
   "execution_count": 49,
   "metadata": {},
   "outputs": [
    {
     "data": {
      "text/plain": [
       "country\n",
       "Afghanistan                         1\n",
       "Albania                             1\n",
       "Algeria                             1\n",
       "Angola                              1\n",
       "Armenia                             1\n",
       "Azerbaijan                          1\n",
       "Bangladesh                          1\n",
       "Belarus                             1\n",
       "Benin                               1\n",
       "Bhutan                              1\n",
       "Bolivia (Plurinational State of)    1\n",
       "Bosnia and Herzegovina              1\n",
       "Botswana                            1\n",
       "Brazil                              1\n",
       "Bulgaria                            1\n",
       "Name: year, dtype: int64"
      ]
     },
     "execution_count": 49,
     "metadata": {},
     "output_type": "execute_result"
    }
   ],
   "source": [
    "countries016 = extract016.year.groupby(extract016.index)\n",
    "countries16 = countries016.count()\n",
    "countries16.head(15)"
   ]
  },
  {
   "cell_type": "code",
   "execution_count": 50,
   "metadata": {},
   "outputs": [
    {
     "data": {
      "text/plain": [
       "g_whoregion\n",
       "AFR    40\n",
       "AMR    17\n",
       "EMR    13\n",
       "EUR    19\n",
       "SEA     9\n",
       "WPR    12\n",
       "Name: year, dtype: int64"
      ]
     },
     "execution_count": 50,
     "metadata": {},
     "output_type": "execute_result"
    }
   ],
   "source": [
    "regions016 = extract016.year.groupby(extract016[\"g_whoregion\"])\n",
    "region16 = regions016.count()\n",
    "region16"
   ]
  },
  {
   "cell_type": "code",
   "execution_count": 51,
   "metadata": {},
   "outputs": [
    {
     "name": "stdout",
     "output_type": "stream",
     "text": [
      "The number of countries attended to in the year 2016 is 110 \n",
      "\n",
      "\n",
      "The number of regions attended to in the year 2016 is 6\n"
     ]
    }
   ],
   "source": [
    "print(\"The number of countries attended to in the year 2016 is\", countries16.values.sum(),\"\\n\\n\\nThe number of regions attended to in the year 2016 is\", len(region16.index))"
   ]
  },
  {
   "cell_type": "code",
   "execution_count": 52,
   "metadata": {},
   "outputs": [
    {
     "data": {
      "text/plain": [
       "Text(0.5, 0, 'Frequency')"
      ]
     },
     "execution_count": 52,
     "metadata": {},
     "output_type": "execute_result"
    },
    {
     "data": {
      "image/png": "[encoded data removed]",
      "text/plain": [
       "<Figure size 432x288 with 1 Axes>"
      ]
     },
     "metadata": {
      "needs_background": "light"
     },
     "output_type": "display_data"
    }
   ],
   "source": [
    "sorted_2016 = region16.sort_values()\n",
    "sorted_2016.plot(kind = \"barh\")\n",
    "plt.title(\"Regional Activities For Year \\'2016\\'\", alpha = 0.85)\n",
    "plt.ylabel(\"Regions\", alpha = 0.7, fontstyle = \"italic\")\n",
    "plt.xlabel(\"Frequency\", alpha = 0.7, fontstyle = 'italic')"
   ]
  },
  {
   "cell_type": "markdown",
   "metadata": {},
   "source": [
    "### All information about 2017 is extracted"
   ]
  },
  {
   "cell_type": "code",
   "execution_count": 53,
   "metadata": {},
   "outputs": [
    {
     "data": {
      "text/plain": [
       "array([2017], dtype=int64)"
      ]
     },
     "execution_count": 53,
     "metadata": {},
     "output_type": "execute_result"
    }
   ],
   "source": [
    "extract017 = dataset[dataset.year == 2017]\n",
    "extract017\n",
    "extract017.year.unique()"
   ]
  },
  {
   "cell_type": "markdown",
   "metadata": {},
   "source": [
    "### To determine the number of regions and countries that was attended to in the year 2017, the details was extracted from dataset DataFrame and the required details was retrieved from there"
   ]
  },
  {
   "cell_type": "code",
   "execution_count": 54,
   "metadata": {},
   "outputs": [
    {
     "data": {
      "text/plain": [
       "country\n",
       "Afghanistan                           1\n",
       "Algeria                               1\n",
       "Angola                                1\n",
       "Armenia                               1\n",
       "Azerbaijan                            1\n",
       "                                     ..\n",
       "Venezuela (Bolivarian Republic of)    1\n",
       "Viet Nam                              1\n",
       "Yemen                                 1\n",
       "Zambia                                1\n",
       "Zimbabwe                              1\n",
       "Name: year, Length: 110, dtype: int64"
      ]
     },
     "execution_count": 54,
     "metadata": {},
     "output_type": "execute_result"
    }
   ],
   "source": [
    "countries017 = extract017.year.groupby(extract017.index)\n",
    "countries17 = countries017.count()\n",
    "countries17"
   ]
  },
  {
   "cell_type": "code",
   "execution_count": 55,
   "metadata": {},
   "outputs": [
    {
     "data": {
      "text/plain": [
       "g_whoregion\n",
       "AFR    42\n",
       "AMR    16\n",
       "EMR    13\n",
       "EUR    18\n",
       "SEA     9\n",
       "WPR    12\n",
       "Name: year, dtype: int64"
      ]
     },
     "execution_count": 55,
     "metadata": {},
     "output_type": "execute_result"
    }
   ],
   "source": [
    "regions017 = extract017.year.groupby(extract017[\"g_whoregion\"])\n",
    "regions17 = regions017.count()\n",
    "regions17"
   ]
  },
  {
   "cell_type": "code",
   "execution_count": 56,
   "metadata": {},
   "outputs": [
    {
     "name": "stdout",
     "output_type": "stream",
     "text": [
      "The number of countries attended to in the year 2017 is 110 \n",
      "\n",
      "\n",
      "The number of regions attended to in the year 2017 is 6\n"
     ]
    }
   ],
   "source": [
    "print(\"The number of countries attended to in the year 2017 is\",countries17.values.sum(),\"\\n\\n\\nThe number of regions attended to in the year 2017 is\",len(regions17))"
   ]
  },
  {
   "cell_type": "code",
   "execution_count": 57,
   "metadata": {},
   "outputs": [
    {
     "data": {
      "text/plain": [
       "Text(0.5, 0, 'Frequency')"
      ]
     },
     "execution_count": 57,
     "metadata": {},
     "output_type": "execute_result"
    },
    {
     "data": {
      "image/png": "[encoded data removed]",
      "text/plain": [
       "<Figure size 432x288 with 1 Axes>"
      ]
     },
     "metadata": {
      "needs_background": "light"
     },
     "output_type": "display_data"
    }
   ],
   "source": [
    "sorted_2017 = regions17.sort_values()\n",
    "sorted_2017.plot(kind = \"barh\")\n",
    "plt.title(\"Regional Activities For Year \\'2017\\'\", alpha = 0.85)\n",
    "plt.ylabel(\"Regions\", alpha = 0.7, fontstyle = \"italic\")\n",
    "plt.xlabel(\"Frequency\", alpha = 0.7, fontstyle = 'italic')"
   ]
  },
  {
   "cell_type": "markdown",
   "metadata": {
    "scrolled": true
   },
   "source": [
    "### All information about 2018 is extracted"
   ]
  },
  {
   "cell_type": "code",
   "execution_count": 58,
   "metadata": {},
   "outputs": [
    {
     "data": {
      "text/plain": [
       "array([2018], dtype=int64)"
      ]
     },
     "execution_count": 58,
     "metadata": {},
     "output_type": "execute_result"
    }
   ],
   "source": [
    "extract018 = dataset[dataset[\"year\"] == 2018]\n",
    "extract018\n",
    "extract018.year.unique()"
   ]
  },
  {
   "cell_type": "markdown",
   "metadata": {},
   "source": [
    "### To determine the number of regions and countries that was attended to in the year 2018, the information was extracted from the dataset DataFrame and the necessary details was retrieved from there"
   ]
  },
  {
   "cell_type": "code",
   "execution_count": 59,
   "metadata": {},
   "outputs": [
    {
     "data": {
      "text/plain": [
       "country\n",
       "Afghanistan                         1\n",
       "Algeria                             1\n",
       "Angola                              1\n",
       "Azerbaijan                          1\n",
       "Bangladesh                          1\n",
       "Belarus                             1\n",
       "Benin                               1\n",
       "Bhutan                              1\n",
       "Bolivia (Plurinational State of)    1\n",
       "Bosnia and Herzegovina              1\n",
       "Botswana                            1\n",
       "Brazil                              1\n",
       "Bulgaria                            1\n",
       "Burkina Faso                        1\n",
       "Burundi                             1\n",
       "Name: year, dtype: int64"
      ]
     },
     "execution_count": 59,
     "metadata": {},
     "output_type": "execute_result"
    }
   ],
   "source": [
    "countries018 = extract018.year.groupby(extract018.index)\n",
    "countries18 = countries018.size()\n",
    "countries18.head(15)"
   ]
  },
  {
   "cell_type": "code",
   "execution_count": 60,
   "metadata": {},
   "outputs": [
    {
     "data": {
      "text/plain": [
       "g_whoregion\n",
       "AFR    42\n",
       "AMR    16\n",
       "EMR    10\n",
       "EUR    13\n",
       "SEA     9\n",
       "WPR    11\n",
       "Name: year, dtype: int64"
      ]
     },
     "execution_count": 60,
     "metadata": {},
     "output_type": "execute_result"
    }
   ],
   "source": [
    "regions018 = extract018.year.groupby(extract018[\"g_whoregion\"])\n",
    "regions18 = regions018.size()\n",
    "regions18"
   ]
  },
  {
   "cell_type": "code",
   "execution_count": 61,
   "metadata": {},
   "outputs": [
    {
     "name": "stdout",
     "output_type": "stream",
     "text": [
      "The number of countries attended to in the year 2018 is 101 \n",
      "\n",
      "\n",
      "The number of regions attended to in the year 2018 is 6\n"
     ]
    }
   ],
   "source": [
    "print(\"The number of countries attended to in the year 2018 is\",countries18.values.sum(),\"\\n\\n\\nThe number of regions attended to in the year 2018 is\",len(regions18.values))"
   ]
  },
  {
   "cell_type": "code",
   "execution_count": 62,
   "metadata": {},
   "outputs": [
    {
     "data": {
      "text/plain": [
       "Text(0.5, 0, 'Frequency')"
      ]
     },
     "execution_count": 62,
     "metadata": {},
     "output_type": "execute_result"
    },
    {
     "data": {
      "image/png": "[encoded data removed]",
      "text/plain": [
       "<Figure size 432x288 with 1 Axes>"
      ]
     },
     "metadata": {
      "needs_background": "light"
     },
     "output_type": "display_data"
    }
   ],
   "source": [
    "sorted_2018 = regions18.sort_values()\n",
    "sorted_2018.plot(kind = \"barh\")\n",
    "plt.title(\"Regional Activities For Year \\'2018\\'\", alpha = 0.85)\n",
    "plt.ylabel(\"Regions\", alpha = 0.7, fontstyle = \"italic\")\n",
    "plt.xlabel(\"Frequency\", alpha = 0.7, fontstyle = 'italic')"
   ]
  },
  {
   "cell_type": "markdown",
   "metadata": {},
   "source": [
    "### I used the below codes to confirm if the total length of the distributed values across various years is equivalent to the total number of values in the actual dataset. \n",
    "\n",
    "### This is just a step to double check if my steps and works are correct\n",
    "\n",
    "### My results proved to be correct"
   ]
  },
  {
   "cell_type": "code",
   "execution_count": 63,
   "metadata": {
    "scrolled": true
   },
   "outputs": [
    {
     "data": {
      "text/plain": [
       "558"
      ]
     },
     "execution_count": 63,
     "metadata": {},
     "output_type": "execute_result"
    }
   ],
   "source": [
    "len(countries13.values)+len(countries14.values) + len(countries15.values) + len(countries16.values) + len(countries17.values) + len(countries18.values)"
   ]
  },
  {
   "cell_type": "code",
   "execution_count": 64,
   "metadata": {},
   "outputs": [
    {
     "data": {
      "text/plain": [
       "558"
      ]
     },
     "execution_count": 64,
     "metadata": {},
     "output_type": "execute_result"
    }
   ],
   "source": [
    "dataset.year.count()"
   ]
  },
  {
   "cell_type": "code",
   "execution_count": 65,
   "metadata": {},
   "outputs": [
    {
     "data": {
      "text/html": [
       "<div>\n",
       "<style scoped>\n",
       "    .dataframe tbody tr th:only-of-type {\n",
       "        vertical-align: middle;\n",
       "    }\n",
       "\n",
       "    .dataframe tbody tr th {\n",
       "        vertical-align: top;\n",
       "    }\n",
       "\n",
       "    .dataframe thead th {\n",
       "        text-align: right;\n",
       "    }\n",
       "</style>\n",
       "<table border=\"1\" class=\"dataframe\">\n",
       "  <thead>\n",
       "    <tr style=\"text-align: right;\">\n",
       "      <th></th>\n",
       "      <th>iso2</th>\n",
       "      <th>iso3</th>\n",
       "      <th>iso_numeric</th>\n",
       "      <th>g_whoregion</th>\n",
       "      <th>year</th>\n",
       "      <th>bmu</th>\n",
       "      <th>bmu_community_impl</th>\n",
       "      <th>community_data_available</th>\n",
       "      <th>bmu_ref_data</th>\n",
       "      <th>notified_ref</th>\n",
       "      <th>notified_ref_community</th>\n",
       "      <th>bmu_rxsupport_data</th>\n",
       "      <th>bmu_rxsupport_data_coh</th>\n",
       "      <th>rxsupport_community_coh</th>\n",
       "      <th>rxsupport_community_succ</th>\n",
       "    </tr>\n",
       "    <tr>\n",
       "      <th>country</th>\n",
       "      <th></th>\n",
       "      <th></th>\n",
       "      <th></th>\n",
       "      <th></th>\n",
       "      <th></th>\n",
       "      <th></th>\n",
       "      <th></th>\n",
       "      <th></th>\n",
       "      <th></th>\n",
       "      <th></th>\n",
       "      <th></th>\n",
       "      <th></th>\n",
       "      <th></th>\n",
       "      <th></th>\n",
       "      <th></th>\n",
       "    </tr>\n",
       "  </thead>\n",
       "  <tbody>\n",
       "    <tr>\n",
       "      <td>Afghanistan</td>\n",
       "      <td>AF</td>\n",
       "      <td>AFG</td>\n",
       "      <td>4</td>\n",
       "      <td>EMR</td>\n",
       "      <td>2013</td>\n",
       "      <td>423.885246</td>\n",
       "      <td>232.037879</td>\n",
       "      <td>0.549296</td>\n",
       "      <td>235.109489</td>\n",
       "      <td>40706.675277</td>\n",
       "      <td>7182.249012</td>\n",
       "      <td>661.0</td>\n",
       "      <td>63441.1133</td>\n",
       "      <td>1089.000000</td>\n",
       "      <td>991.000000</td>\n",
       "    </tr>\n",
       "    <tr>\n",
       "      <td>Algeria</td>\n",
       "      <td>DZ</td>\n",
       "      <td>DZA</td>\n",
       "      <td>12</td>\n",
       "      <td>AFR</td>\n",
       "      <td>2013</td>\n",
       "      <td>423.885246</td>\n",
       "      <td>232.037879</td>\n",
       "      <td>0.549296</td>\n",
       "      <td>235.109489</td>\n",
       "      <td>40706.675277</td>\n",
       "      <td>7182.249012</td>\n",
       "      <td>0.0</td>\n",
       "      <td>63441.1133</td>\n",
       "      <td>0.000000</td>\n",
       "      <td>0.000000</td>\n",
       "    </tr>\n",
       "    <tr>\n",
       "      <td>Armenia</td>\n",
       "      <td>AM</td>\n",
       "      <td>ARM</td>\n",
       "      <td>51</td>\n",
       "      <td>EUR</td>\n",
       "      <td>2013</td>\n",
       "      <td>423.885246</td>\n",
       "      <td>232.037879</td>\n",
       "      <td>0.549296</td>\n",
       "      <td>235.109489</td>\n",
       "      <td>40706.675277</td>\n",
       "      <td>7182.249012</td>\n",
       "      <td>66.0</td>\n",
       "      <td>63441.1133</td>\n",
       "      <td>0.000000</td>\n",
       "      <td>0.000000</td>\n",
       "    </tr>\n",
       "    <tr>\n",
       "      <td>Azerbaijan</td>\n",
       "      <td>AZ</td>\n",
       "      <td>AZE</td>\n",
       "      <td>31</td>\n",
       "      <td>EUR</td>\n",
       "      <td>2013</td>\n",
       "      <td>423.885246</td>\n",
       "      <td>232.037879</td>\n",
       "      <td>0.549296</td>\n",
       "      <td>235.109489</td>\n",
       "      <td>40706.675277</td>\n",
       "      <td>7182.249012</td>\n",
       "      <td>0.0</td>\n",
       "      <td>63441.1133</td>\n",
       "      <td>0.000000</td>\n",
       "      <td>0.000000</td>\n",
       "    </tr>\n",
       "    <tr>\n",
       "      <td>Botswana</td>\n",
       "      <td>BW</td>\n",
       "      <td>BWA</td>\n",
       "      <td>72</td>\n",
       "      <td>AFR</td>\n",
       "      <td>2013</td>\n",
       "      <td>423.885246</td>\n",
       "      <td>232.037879</td>\n",
       "      <td>0.549296</td>\n",
       "      <td>235.109489</td>\n",
       "      <td>40706.675277</td>\n",
       "      <td>7182.249012</td>\n",
       "      <td>27.0</td>\n",
       "      <td>63441.1133</td>\n",
       "      <td>5316.000000</td>\n",
       "      <td>3605.000000</td>\n",
       "    </tr>\n",
       "    <tr>\n",
       "      <td>Bulgaria</td>\n",
       "      <td>BG</td>\n",
       "      <td>BGR</td>\n",
       "      <td>100</td>\n",
       "      <td>EUR</td>\n",
       "      <td>2013</td>\n",
       "      <td>423.885246</td>\n",
       "      <td>232.037879</td>\n",
       "      <td>0.549296</td>\n",
       "      <td>235.109489</td>\n",
       "      <td>40706.675277</td>\n",
       "      <td>7182.249012</td>\n",
       "      <td>22.0</td>\n",
       "      <td>63441.1133</td>\n",
       "      <td>218.000000</td>\n",
       "      <td>29002.339806</td>\n",
       "    </tr>\n",
       "    <tr>\n",
       "      <td>Burkina Faso</td>\n",
       "      <td>BF</td>\n",
       "      <td>BFA</td>\n",
       "      <td>854</td>\n",
       "      <td>AFR</td>\n",
       "      <td>2013</td>\n",
       "      <td>423.885246</td>\n",
       "      <td>232.037879</td>\n",
       "      <td>0.549296</td>\n",
       "      <td>235.109489</td>\n",
       "      <td>40706.675277</td>\n",
       "      <td>7182.249012</td>\n",
       "      <td>30.0</td>\n",
       "      <td>63441.1133</td>\n",
       "      <td>1569.000000</td>\n",
       "      <td>29002.339806</td>\n",
       "    </tr>\n",
       "    <tr>\n",
       "      <td>Burundi</td>\n",
       "      <td>BI</td>\n",
       "      <td>BDI</td>\n",
       "      <td>108</td>\n",
       "      <td>AFR</td>\n",
       "      <td>2013</td>\n",
       "      <td>423.885246</td>\n",
       "      <td>232.037879</td>\n",
       "      <td>0.549296</td>\n",
       "      <td>235.109489</td>\n",
       "      <td>40706.675277</td>\n",
       "      <td>7182.249012</td>\n",
       "      <td>17.0</td>\n",
       "      <td>63441.1133</td>\n",
       "      <td>1335.000000</td>\n",
       "      <td>1320.000000</td>\n",
       "    </tr>\n",
       "    <tr>\n",
       "      <td>Cabo Verde</td>\n",
       "      <td>CV</td>\n",
       "      <td>CPV</td>\n",
       "      <td>132</td>\n",
       "      <td>AFR</td>\n",
       "      <td>2013</td>\n",
       "      <td>423.885246</td>\n",
       "      <td>232.037879</td>\n",
       "      <td>0.549296</td>\n",
       "      <td>235.109489</td>\n",
       "      <td>40706.675277</td>\n",
       "      <td>7182.249012</td>\n",
       "      <td>0.0</td>\n",
       "      <td>63441.1133</td>\n",
       "      <td>0.000000</td>\n",
       "      <td>0.000000</td>\n",
       "    </tr>\n",
       "    <tr>\n",
       "      <td>Cameroon</td>\n",
       "      <td>CM</td>\n",
       "      <td>CMR</td>\n",
       "      <td>120</td>\n",
       "      <td>AFR</td>\n",
       "      <td>2013</td>\n",
       "      <td>423.885246</td>\n",
       "      <td>232.037879</td>\n",
       "      <td>0.549296</td>\n",
       "      <td>235.109489</td>\n",
       "      <td>40706.675277</td>\n",
       "      <td>7182.249012</td>\n",
       "      <td>0.0</td>\n",
       "      <td>63441.1133</td>\n",
       "      <td>0.000000</td>\n",
       "      <td>0.000000</td>\n",
       "    </tr>\n",
       "    <tr>\n",
       "      <td>Chad</td>\n",
       "      <td>TD</td>\n",
       "      <td>TCD</td>\n",
       "      <td>148</td>\n",
       "      <td>AFR</td>\n",
       "      <td>2013</td>\n",
       "      <td>423.885246</td>\n",
       "      <td>232.037879</td>\n",
       "      <td>0.549296</td>\n",
       "      <td>235.109489</td>\n",
       "      <td>40706.675277</td>\n",
       "      <td>7182.249012</td>\n",
       "      <td>0.0</td>\n",
       "      <td>63441.1133</td>\n",
       "      <td>0.000000</td>\n",
       "      <td>0.000000</td>\n",
       "    </tr>\n",
       "    <tr>\n",
       "      <td>Côte d'Ivoire</td>\n",
       "      <td>CI</td>\n",
       "      <td>CIV</td>\n",
       "      <td>384</td>\n",
       "      <td>AFR</td>\n",
       "      <td>2013</td>\n",
       "      <td>423.885246</td>\n",
       "      <td>232.037879</td>\n",
       "      <td>0.549296</td>\n",
       "      <td>235.109489</td>\n",
       "      <td>40706.675277</td>\n",
       "      <td>7182.249012</td>\n",
       "      <td>134.0</td>\n",
       "      <td>63441.1133</td>\n",
       "      <td>7785.000000</td>\n",
       "      <td>6115.000000</td>\n",
       "    </tr>\n",
       "    <tr>\n",
       "      <td>Democratic Republic of the Congo</td>\n",
       "      <td>CD</td>\n",
       "      <td>COD</td>\n",
       "      <td>180</td>\n",
       "      <td>AFR</td>\n",
       "      <td>2013</td>\n",
       "      <td>423.885246</td>\n",
       "      <td>232.037879</td>\n",
       "      <td>0.549296</td>\n",
       "      <td>235.109489</td>\n",
       "      <td>40706.675277</td>\n",
       "      <td>7182.249012</td>\n",
       "      <td>95.0</td>\n",
       "      <td>63441.1133</td>\n",
       "      <td>7202.000000</td>\n",
       "      <td>6270.000000</td>\n",
       "    </tr>\n",
       "    <tr>\n",
       "      <td>Eritrea</td>\n",
       "      <td>ER</td>\n",
       "      <td>ERI</td>\n",
       "      <td>232</td>\n",
       "      <td>AFR</td>\n",
       "      <td>2013</td>\n",
       "      <td>423.885246</td>\n",
       "      <td>232.037879</td>\n",
       "      <td>0.549296</td>\n",
       "      <td>235.109489</td>\n",
       "      <td>40706.675277</td>\n",
       "      <td>7182.249012</td>\n",
       "      <td>69.0</td>\n",
       "      <td>63441.1133</td>\n",
       "      <td>30194.145161</td>\n",
       "      <td>29002.339806</td>\n",
       "    </tr>\n",
       "    <tr>\n",
       "      <td>Ethiopia</td>\n",
       "      <td>ET</td>\n",
       "      <td>ETH</td>\n",
       "      <td>231</td>\n",
       "      <td>AFR</td>\n",
       "      <td>2013</td>\n",
       "      <td>423.885246</td>\n",
       "      <td>232.037879</td>\n",
       "      <td>0.549296</td>\n",
       "      <td>235.109489</td>\n",
       "      <td>40706.675277</td>\n",
       "      <td>7182.249012</td>\n",
       "      <td>760.0</td>\n",
       "      <td>63441.1133</td>\n",
       "      <td>11314.000000</td>\n",
       "      <td>29002.339806</td>\n",
       "    </tr>\n",
       "    <tr>\n",
       "      <td>Gabon</td>\n",
       "      <td>GA</td>\n",
       "      <td>GAB</td>\n",
       "      <td>266</td>\n",
       "      <td>AFR</td>\n",
       "      <td>2013</td>\n",
       "      <td>423.885246</td>\n",
       "      <td>232.037879</td>\n",
       "      <td>0.549296</td>\n",
       "      <td>235.109489</td>\n",
       "      <td>40706.675277</td>\n",
       "      <td>7182.249012</td>\n",
       "      <td>0.0</td>\n",
       "      <td>63441.1133</td>\n",
       "      <td>0.000000</td>\n",
       "      <td>0.000000</td>\n",
       "    </tr>\n",
       "    <tr>\n",
       "      <td>Georgia</td>\n",
       "      <td>GE</td>\n",
       "      <td>GEO</td>\n",
       "      <td>268</td>\n",
       "      <td>EUR</td>\n",
       "      <td>2013</td>\n",
       "      <td>423.885246</td>\n",
       "      <td>232.037879</td>\n",
       "      <td>0.549296</td>\n",
       "      <td>235.109489</td>\n",
       "      <td>40706.675277</td>\n",
       "      <td>7182.249012</td>\n",
       "      <td>1.0</td>\n",
       "      <td>63441.1133</td>\n",
       "      <td>29.000000</td>\n",
       "      <td>26.000000</td>\n",
       "    </tr>\n",
       "    <tr>\n",
       "      <td>Ghana</td>\n",
       "      <td>GH</td>\n",
       "      <td>GHA</td>\n",
       "      <td>288</td>\n",
       "      <td>AFR</td>\n",
       "      <td>2013</td>\n",
       "      <td>423.885246</td>\n",
       "      <td>232.037879</td>\n",
       "      <td>0.549296</td>\n",
       "      <td>235.109489</td>\n",
       "      <td>40706.675277</td>\n",
       "      <td>7182.249012</td>\n",
       "      <td>216.0</td>\n",
       "      <td>63441.1133</td>\n",
       "      <td>11392.000000</td>\n",
       "      <td>29002.339806</td>\n",
       "    </tr>\n",
       "    <tr>\n",
       "      <td>Guinea</td>\n",
       "      <td>GN</td>\n",
       "      <td>GIN</td>\n",
       "      <td>324</td>\n",
       "      <td>AFR</td>\n",
       "      <td>2013</td>\n",
       "      <td>423.885246</td>\n",
       "      <td>232.037879</td>\n",
       "      <td>0.549296</td>\n",
       "      <td>235.109489</td>\n",
       "      <td>40706.675277</td>\n",
       "      <td>7182.249012</td>\n",
       "      <td>55.0</td>\n",
       "      <td>63441.1133</td>\n",
       "      <td>1307.000000</td>\n",
       "      <td>1046.000000</td>\n",
       "    </tr>\n",
       "    <tr>\n",
       "      <td>India</td>\n",
       "      <td>IN</td>\n",
       "      <td>IND</td>\n",
       "      <td>356</td>\n",
       "      <td>SEA</td>\n",
       "      <td>2013</td>\n",
       "      <td>423.885246</td>\n",
       "      <td>232.037879</td>\n",
       "      <td>0.549296</td>\n",
       "      <td>235.109489</td>\n",
       "      <td>40706.675277</td>\n",
       "      <td>7182.249012</td>\n",
       "      <td>3394.0</td>\n",
       "      <td>63441.1133</td>\n",
       "      <td>736069.000000</td>\n",
       "      <td>655101.000000</td>\n",
       "    </tr>\n",
       "  </tbody>\n",
       "</table>\n",
       "</div>"
      ],
      "text/plain": [
       "                                 iso2 iso3  iso_numeric g_whoregion  year  \\\n",
       "country                                                                     \n",
       "Afghanistan                        AF  AFG            4         EMR  2013   \n",
       "Algeria                            DZ  DZA           12         AFR  2013   \n",
       "Armenia                            AM  ARM           51         EUR  2013   \n",
       "Azerbaijan                         AZ  AZE           31         EUR  2013   \n",
       "Botswana                           BW  BWA           72         AFR  2013   \n",
       "Bulgaria                           BG  BGR          100         EUR  2013   \n",
       "Burkina Faso                       BF  BFA          854         AFR  2013   \n",
       "Burundi                            BI  BDI          108         AFR  2013   \n",
       "Cabo Verde                         CV  CPV          132         AFR  2013   \n",
       "Cameroon                           CM  CMR          120         AFR  2013   \n",
       "Chad                               TD  TCD          148         AFR  2013   \n",
       "Côte d'Ivoire                      CI  CIV          384         AFR  2013   \n",
       "Democratic Republic of the Congo   CD  COD          180         AFR  2013   \n",
       "Eritrea                            ER  ERI          232         AFR  2013   \n",
       "Ethiopia                           ET  ETH          231         AFR  2013   \n",
       "Gabon                              GA  GAB          266         AFR  2013   \n",
       "Georgia                            GE  GEO          268         EUR  2013   \n",
       "Ghana                              GH  GHA          288         AFR  2013   \n",
       "Guinea                             GN  GIN          324         AFR  2013   \n",
       "India                              IN  IND          356         SEA  2013   \n",
       "\n",
       "                                         bmu  bmu_community_impl  \\\n",
       "country                                                            \n",
       "Afghanistan                       423.885246          232.037879   \n",
       "Algeria                           423.885246          232.037879   \n",
       "Armenia                           423.885246          232.037879   \n",
       "Azerbaijan                        423.885246          232.037879   \n",
       "Botswana                          423.885246          232.037879   \n",
       "Bulgaria                          423.885246          232.037879   \n",
       "Burkina Faso                      423.885246          232.037879   \n",
       "Burundi                           423.885246          232.037879   \n",
       "Cabo Verde                        423.885246          232.037879   \n",
       "Cameroon                          423.885246          232.037879   \n",
       "Chad                              423.885246          232.037879   \n",
       "Côte d'Ivoire                     423.885246          232.037879   \n",
       "Democratic Republic of the Congo  423.885246          232.037879   \n",
       "Eritrea                           423.885246          232.037879   \n",
       "Ethiopia                          423.885246          232.037879   \n",
       "Gabon                             423.885246          232.037879   \n",
       "Georgia                           423.885246          232.037879   \n",
       "Ghana                             423.885246          232.037879   \n",
       "Guinea                            423.885246          232.037879   \n",
       "India                             423.885246          232.037879   \n",
       "\n",
       "                                  community_data_available  bmu_ref_data  \\\n",
       "country                                                                    \n",
       "Afghanistan                                       0.549296    235.109489   \n",
       "Algeria                                           0.549296    235.109489   \n",
       "Armenia                                           0.549296    235.109489   \n",
       "Azerbaijan                                        0.549296    235.109489   \n",
       "Botswana                                          0.549296    235.109489   \n",
       "Bulgaria                                          0.549296    235.109489   \n",
       "Burkina Faso                                      0.549296    235.109489   \n",
       "Burundi                                           0.549296    235.109489   \n",
       "Cabo Verde                                        0.549296    235.109489   \n",
       "Cameroon                                          0.549296    235.109489   \n",
       "Chad                                              0.549296    235.109489   \n",
       "Côte d'Ivoire                                     0.549296    235.109489   \n",
       "Democratic Republic of the Congo                  0.549296    235.109489   \n",
       "Eritrea                                           0.549296    235.109489   \n",
       "Ethiopia                                          0.549296    235.109489   \n",
       "Gabon                                             0.549296    235.109489   \n",
       "Georgia                                           0.549296    235.109489   \n",
       "Ghana                                             0.549296    235.109489   \n",
       "Guinea                                            0.549296    235.109489   \n",
       "India                                             0.549296    235.109489   \n",
       "\n",
       "                                  notified_ref  notified_ref_community  \\\n",
       "country                                                                  \n",
       "Afghanistan                       40706.675277             7182.249012   \n",
       "Algeria                           40706.675277             7182.249012   \n",
       "Armenia                           40706.675277             7182.249012   \n",
       "Azerbaijan                        40706.675277             7182.249012   \n",
       "Botswana                          40706.675277             7182.249012   \n",
       "Bulgaria                          40706.675277             7182.249012   \n",
       "Burkina Faso                      40706.675277             7182.249012   \n",
       "Burundi                           40706.675277             7182.249012   \n",
       "Cabo Verde                        40706.675277             7182.249012   \n",
       "Cameroon                          40706.675277             7182.249012   \n",
       "Chad                              40706.675277             7182.249012   \n",
       "Côte d'Ivoire                     40706.675277             7182.249012   \n",
       "Democratic Republic of the Congo  40706.675277             7182.249012   \n",
       "Eritrea                           40706.675277             7182.249012   \n",
       "Ethiopia                          40706.675277             7182.249012   \n",
       "Gabon                             40706.675277             7182.249012   \n",
       "Georgia                           40706.675277             7182.249012   \n",
       "Ghana                             40706.675277             7182.249012   \n",
       "Guinea                            40706.675277             7182.249012   \n",
       "India                             40706.675277             7182.249012   \n",
       "\n",
       "                                  bmu_rxsupport_data  bmu_rxsupport_data_coh  \\\n",
       "country                                                                        \n",
       "Afghanistan                                    661.0              63441.1133   \n",
       "Algeria                                          0.0              63441.1133   \n",
       "Armenia                                         66.0              63441.1133   \n",
       "Azerbaijan                                       0.0              63441.1133   \n",
       "Botswana                                        27.0              63441.1133   \n",
       "Bulgaria                                        22.0              63441.1133   \n",
       "Burkina Faso                                    30.0              63441.1133   \n",
       "Burundi                                         17.0              63441.1133   \n",
       "Cabo Verde                                       0.0              63441.1133   \n",
       "Cameroon                                         0.0              63441.1133   \n",
       "Chad                                             0.0              63441.1133   \n",
       "Côte d'Ivoire                                  134.0              63441.1133   \n",
       "Democratic Republic of the Congo                95.0              63441.1133   \n",
       "Eritrea                                         69.0              63441.1133   \n",
       "Ethiopia                                       760.0              63441.1133   \n",
       "Gabon                                            0.0              63441.1133   \n",
       "Georgia                                          1.0              63441.1133   \n",
       "Ghana                                          216.0              63441.1133   \n",
       "Guinea                                          55.0              63441.1133   \n",
       "India                                         3394.0              63441.1133   \n",
       "\n",
       "                                  rxsupport_community_coh  \\\n",
       "country                                                     \n",
       "Afghanistan                                   1089.000000   \n",
       "Algeria                                          0.000000   \n",
       "Armenia                                          0.000000   \n",
       "Azerbaijan                                       0.000000   \n",
       "Botswana                                      5316.000000   \n",
       "Bulgaria                                       218.000000   \n",
       "Burkina Faso                                  1569.000000   \n",
       "Burundi                                       1335.000000   \n",
       "Cabo Verde                                       0.000000   \n",
       "Cameroon                                         0.000000   \n",
       "Chad                                             0.000000   \n",
       "Côte d'Ivoire                                 7785.000000   \n",
       "Democratic Republic of the Congo              7202.000000   \n",
       "Eritrea                                      30194.145161   \n",
       "Ethiopia                                     11314.000000   \n",
       "Gabon                                            0.000000   \n",
       "Georgia                                         29.000000   \n",
       "Ghana                                        11392.000000   \n",
       "Guinea                                        1307.000000   \n",
       "India                                       736069.000000   \n",
       "\n",
       "                                  rxsupport_community_succ  \n",
       "country                                                     \n",
       "Afghanistan                                     991.000000  \n",
       "Algeria                                           0.000000  \n",
       "Armenia                                           0.000000  \n",
       "Azerbaijan                                        0.000000  \n",
       "Botswana                                       3605.000000  \n",
       "Bulgaria                                      29002.339806  \n",
       "Burkina Faso                                  29002.339806  \n",
       "Burundi                                        1320.000000  \n",
       "Cabo Verde                                        0.000000  \n",
       "Cameroon                                          0.000000  \n",
       "Chad                                              0.000000  \n",
       "Côte d'Ivoire                                  6115.000000  \n",
       "Democratic Republic of the Congo               6270.000000  \n",
       "Eritrea                                       29002.339806  \n",
       "Ethiopia                                      29002.339806  \n",
       "Gabon                                             0.000000  \n",
       "Georgia                                          26.000000  \n",
       "Ghana                                         29002.339806  \n",
       "Guinea                                         1046.000000  \n",
       "India                                        655101.000000  "
      ]
     },
     "execution_count": 65,
     "metadata": {},
     "output_type": "execute_result"
    }
   ],
   "source": [
    "extract013.head(20)"
   ]
  },
  {
   "cell_type": "code",
   "execution_count": 66,
   "metadata": {},
   "outputs": [
    {
     "data": {
      "text/plain": [
       "29"
      ]
     },
     "execution_count": 66,
     "metadata": {},
     "output_type": "execute_result"
    }
   ],
   "source": [
    "afr13 = extract013[extract013[\"g_whoregion\"] == 'AFR']\n",
    "afri13 = afr13.index.size\n",
    "afri13"
   ]
  },
  {
   "cell_type": "code",
   "execution_count": 67,
   "metadata": {},
   "outputs": [
    {
     "data": {
      "text/html": [
       "<div>\n",
       "<style scoped>\n",
       "    .dataframe tbody tr th:only-of-type {\n",
       "        vertical-align: middle;\n",
       "    }\n",
       "\n",
       "    .dataframe tbody tr th {\n",
       "        vertical-align: top;\n",
       "    }\n",
       "\n",
       "    .dataframe thead th {\n",
       "        text-align: right;\n",
       "    }\n",
       "</style>\n",
       "<table border=\"1\" class=\"dataframe\">\n",
       "  <thead>\n",
       "    <tr style=\"text-align: right;\">\n",
       "      <th></th>\n",
       "      <th>iso2</th>\n",
       "      <th>iso3</th>\n",
       "      <th>iso_numeric</th>\n",
       "      <th>g_whoregion</th>\n",
       "      <th>year</th>\n",
       "      <th>bmu</th>\n",
       "      <th>bmu_community_impl</th>\n",
       "      <th>community_data_available</th>\n",
       "      <th>bmu_ref_data</th>\n",
       "      <th>notified_ref</th>\n",
       "      <th>notified_ref_community</th>\n",
       "      <th>bmu_rxsupport_data</th>\n",
       "      <th>bmu_rxsupport_data_coh</th>\n",
       "      <th>rxsupport_community_coh</th>\n",
       "      <th>rxsupport_community_succ</th>\n",
       "    </tr>\n",
       "    <tr>\n",
       "      <th>country</th>\n",
       "      <th></th>\n",
       "      <th></th>\n",
       "      <th></th>\n",
       "      <th></th>\n",
       "      <th></th>\n",
       "      <th></th>\n",
       "      <th></th>\n",
       "      <th></th>\n",
       "      <th></th>\n",
       "      <th></th>\n",
       "      <th></th>\n",
       "      <th></th>\n",
       "      <th></th>\n",
       "      <th></th>\n",
       "      <th></th>\n",
       "    </tr>\n",
       "  </thead>\n",
       "  <tbody>\n",
       "    <tr>\n",
       "      <td>Algeria</td>\n",
       "      <td>DZ</td>\n",
       "      <td>DZA</td>\n",
       "      <td>12</td>\n",
       "      <td>AFR</td>\n",
       "      <td>2013</td>\n",
       "      <td>423.885246</td>\n",
       "      <td>232.037879</td>\n",
       "      <td>0.549296</td>\n",
       "      <td>235.109489</td>\n",
       "      <td>40706.675277</td>\n",
       "      <td>7182.249012</td>\n",
       "      <td>0.0</td>\n",
       "      <td>63441.1133</td>\n",
       "      <td>0.000000</td>\n",
       "      <td>0.000000</td>\n",
       "    </tr>\n",
       "    <tr>\n",
       "      <td>Botswana</td>\n",
       "      <td>BW</td>\n",
       "      <td>BWA</td>\n",
       "      <td>72</td>\n",
       "      <td>AFR</td>\n",
       "      <td>2013</td>\n",
       "      <td>423.885246</td>\n",
       "      <td>232.037879</td>\n",
       "      <td>0.549296</td>\n",
       "      <td>235.109489</td>\n",
       "      <td>40706.675277</td>\n",
       "      <td>7182.249012</td>\n",
       "      <td>27.0</td>\n",
       "      <td>63441.1133</td>\n",
       "      <td>5316.000000</td>\n",
       "      <td>3605.000000</td>\n",
       "    </tr>\n",
       "    <tr>\n",
       "      <td>Burkina Faso</td>\n",
       "      <td>BF</td>\n",
       "      <td>BFA</td>\n",
       "      <td>854</td>\n",
       "      <td>AFR</td>\n",
       "      <td>2013</td>\n",
       "      <td>423.885246</td>\n",
       "      <td>232.037879</td>\n",
       "      <td>0.549296</td>\n",
       "      <td>235.109489</td>\n",
       "      <td>40706.675277</td>\n",
       "      <td>7182.249012</td>\n",
       "      <td>30.0</td>\n",
       "      <td>63441.1133</td>\n",
       "      <td>1569.000000</td>\n",
       "      <td>29002.339806</td>\n",
       "    </tr>\n",
       "    <tr>\n",
       "      <td>Burundi</td>\n",
       "      <td>BI</td>\n",
       "      <td>BDI</td>\n",
       "      <td>108</td>\n",
       "      <td>AFR</td>\n",
       "      <td>2013</td>\n",
       "      <td>423.885246</td>\n",
       "      <td>232.037879</td>\n",
       "      <td>0.549296</td>\n",
       "      <td>235.109489</td>\n",
       "      <td>40706.675277</td>\n",
       "      <td>7182.249012</td>\n",
       "      <td>17.0</td>\n",
       "      <td>63441.1133</td>\n",
       "      <td>1335.000000</td>\n",
       "      <td>1320.000000</td>\n",
       "    </tr>\n",
       "    <tr>\n",
       "      <td>Cabo Verde</td>\n",
       "      <td>CV</td>\n",
       "      <td>CPV</td>\n",
       "      <td>132</td>\n",
       "      <td>AFR</td>\n",
       "      <td>2013</td>\n",
       "      <td>423.885246</td>\n",
       "      <td>232.037879</td>\n",
       "      <td>0.549296</td>\n",
       "      <td>235.109489</td>\n",
       "      <td>40706.675277</td>\n",
       "      <td>7182.249012</td>\n",
       "      <td>0.0</td>\n",
       "      <td>63441.1133</td>\n",
       "      <td>0.000000</td>\n",
       "      <td>0.000000</td>\n",
       "    </tr>\n",
       "    <tr>\n",
       "      <td>Cameroon</td>\n",
       "      <td>CM</td>\n",
       "      <td>CMR</td>\n",
       "      <td>120</td>\n",
       "      <td>AFR</td>\n",
       "      <td>2013</td>\n",
       "      <td>423.885246</td>\n",
       "      <td>232.037879</td>\n",
       "      <td>0.549296</td>\n",
       "      <td>235.109489</td>\n",
       "      <td>40706.675277</td>\n",
       "      <td>7182.249012</td>\n",
       "      <td>0.0</td>\n",
       "      <td>63441.1133</td>\n",
       "      <td>0.000000</td>\n",
       "      <td>0.000000</td>\n",
       "    </tr>\n",
       "    <tr>\n",
       "      <td>Chad</td>\n",
       "      <td>TD</td>\n",
       "      <td>TCD</td>\n",
       "      <td>148</td>\n",
       "      <td>AFR</td>\n",
       "      <td>2013</td>\n",
       "      <td>423.885246</td>\n",
       "      <td>232.037879</td>\n",
       "      <td>0.549296</td>\n",
       "      <td>235.109489</td>\n",
       "      <td>40706.675277</td>\n",
       "      <td>7182.249012</td>\n",
       "      <td>0.0</td>\n",
       "      <td>63441.1133</td>\n",
       "      <td>0.000000</td>\n",
       "      <td>0.000000</td>\n",
       "    </tr>\n",
       "    <tr>\n",
       "      <td>Côte d'Ivoire</td>\n",
       "      <td>CI</td>\n",
       "      <td>CIV</td>\n",
       "      <td>384</td>\n",
       "      <td>AFR</td>\n",
       "      <td>2013</td>\n",
       "      <td>423.885246</td>\n",
       "      <td>232.037879</td>\n",
       "      <td>0.549296</td>\n",
       "      <td>235.109489</td>\n",
       "      <td>40706.675277</td>\n",
       "      <td>7182.249012</td>\n",
       "      <td>134.0</td>\n",
       "      <td>63441.1133</td>\n",
       "      <td>7785.000000</td>\n",
       "      <td>6115.000000</td>\n",
       "    </tr>\n",
       "    <tr>\n",
       "      <td>Democratic Republic of the Congo</td>\n",
       "      <td>CD</td>\n",
       "      <td>COD</td>\n",
       "      <td>180</td>\n",
       "      <td>AFR</td>\n",
       "      <td>2013</td>\n",
       "      <td>423.885246</td>\n",
       "      <td>232.037879</td>\n",
       "      <td>0.549296</td>\n",
       "      <td>235.109489</td>\n",
       "      <td>40706.675277</td>\n",
       "      <td>7182.249012</td>\n",
       "      <td>95.0</td>\n",
       "      <td>63441.1133</td>\n",
       "      <td>7202.000000</td>\n",
       "      <td>6270.000000</td>\n",
       "    </tr>\n",
       "    <tr>\n",
       "      <td>Eritrea</td>\n",
       "      <td>ER</td>\n",
       "      <td>ERI</td>\n",
       "      <td>232</td>\n",
       "      <td>AFR</td>\n",
       "      <td>2013</td>\n",
       "      <td>423.885246</td>\n",
       "      <td>232.037879</td>\n",
       "      <td>0.549296</td>\n",
       "      <td>235.109489</td>\n",
       "      <td>40706.675277</td>\n",
       "      <td>7182.249012</td>\n",
       "      <td>69.0</td>\n",
       "      <td>63441.1133</td>\n",
       "      <td>30194.145161</td>\n",
       "      <td>29002.339806</td>\n",
       "    </tr>\n",
       "  </tbody>\n",
       "</table>\n",
       "</div>"
      ],
      "text/plain": [
       "                                 iso2 iso3  iso_numeric g_whoregion  year  \\\n",
       "country                                                                     \n",
       "Algeria                            DZ  DZA           12         AFR  2013   \n",
       "Botswana                           BW  BWA           72         AFR  2013   \n",
       "Burkina Faso                       BF  BFA          854         AFR  2013   \n",
       "Burundi                            BI  BDI          108         AFR  2013   \n",
       "Cabo Verde                         CV  CPV          132         AFR  2013   \n",
       "Cameroon                           CM  CMR          120         AFR  2013   \n",
       "Chad                               TD  TCD          148         AFR  2013   \n",
       "Côte d'Ivoire                      CI  CIV          384         AFR  2013   \n",
       "Democratic Republic of the Congo   CD  COD          180         AFR  2013   \n",
       "Eritrea                            ER  ERI          232         AFR  2013   \n",
       "\n",
       "                                         bmu  bmu_community_impl  \\\n",
       "country                                                            \n",
       "Algeria                           423.885246          232.037879   \n",
       "Botswana                          423.885246          232.037879   \n",
       "Burkina Faso                      423.885246          232.037879   \n",
       "Burundi                           423.885246          232.037879   \n",
       "Cabo Verde                        423.885246          232.037879   \n",
       "Cameroon                          423.885246          232.037879   \n",
       "Chad                              423.885246          232.037879   \n",
       "Côte d'Ivoire                     423.885246          232.037879   \n",
       "Democratic Republic of the Congo  423.885246          232.037879   \n",
       "Eritrea                           423.885246          232.037879   \n",
       "\n",
       "                                  community_data_available  bmu_ref_data  \\\n",
       "country                                                                    \n",
       "Algeria                                           0.549296    235.109489   \n",
       "Botswana                                          0.549296    235.109489   \n",
       "Burkina Faso                                      0.549296    235.109489   \n",
       "Burundi                                           0.549296    235.109489   \n",
       "Cabo Verde                                        0.549296    235.109489   \n",
       "Cameroon                                          0.549296    235.109489   \n",
       "Chad                                              0.549296    235.109489   \n",
       "Côte d'Ivoire                                     0.549296    235.109489   \n",
       "Democratic Republic of the Congo                  0.549296    235.109489   \n",
       "Eritrea                                           0.549296    235.109489   \n",
       "\n",
       "                                  notified_ref  notified_ref_community  \\\n",
       "country                                                                  \n",
       "Algeria                           40706.675277             7182.249012   \n",
       "Botswana                          40706.675277             7182.249012   \n",
       "Burkina Faso                      40706.675277             7182.249012   \n",
       "Burundi                           40706.675277             7182.249012   \n",
       "Cabo Verde                        40706.675277             7182.249012   \n",
       "Cameroon                          40706.675277             7182.249012   \n",
       "Chad                              40706.675277             7182.249012   \n",
       "Côte d'Ivoire                     40706.675277             7182.249012   \n",
       "Democratic Republic of the Congo  40706.675277             7182.249012   \n",
       "Eritrea                           40706.675277             7182.249012   \n",
       "\n",
       "                                  bmu_rxsupport_data  bmu_rxsupport_data_coh  \\\n",
       "country                                                                        \n",
       "Algeria                                          0.0              63441.1133   \n",
       "Botswana                                        27.0              63441.1133   \n",
       "Burkina Faso                                    30.0              63441.1133   \n",
       "Burundi                                         17.0              63441.1133   \n",
       "Cabo Verde                                       0.0              63441.1133   \n",
       "Cameroon                                         0.0              63441.1133   \n",
       "Chad                                             0.0              63441.1133   \n",
       "Côte d'Ivoire                                  134.0              63441.1133   \n",
       "Democratic Republic of the Congo                95.0              63441.1133   \n",
       "Eritrea                                         69.0              63441.1133   \n",
       "\n",
       "                                  rxsupport_community_coh  \\\n",
       "country                                                     \n",
       "Algeria                                          0.000000   \n",
       "Botswana                                      5316.000000   \n",
       "Burkina Faso                                  1569.000000   \n",
       "Burundi                                       1335.000000   \n",
       "Cabo Verde                                       0.000000   \n",
       "Cameroon                                         0.000000   \n",
       "Chad                                             0.000000   \n",
       "Côte d'Ivoire                                 7785.000000   \n",
       "Democratic Republic of the Congo              7202.000000   \n",
       "Eritrea                                      30194.145161   \n",
       "\n",
       "                                  rxsupport_community_succ  \n",
       "country                                                     \n",
       "Algeria                                           0.000000  \n",
       "Botswana                                       3605.000000  \n",
       "Burkina Faso                                  29002.339806  \n",
       "Burundi                                        1320.000000  \n",
       "Cabo Verde                                        0.000000  \n",
       "Cameroon                                          0.000000  \n",
       "Chad                                              0.000000  \n",
       "Côte d'Ivoire                                  6115.000000  \n",
       "Democratic Republic of the Congo               6270.000000  \n",
       "Eritrea                                       29002.339806  "
      ]
     },
     "execution_count": 67,
     "metadata": {},
     "output_type": "execute_result"
    }
   ],
   "source": [
    "afr13.head(10)"
   ]
  },
  {
   "cell_type": "code",
   "execution_count": 68,
   "metadata": {},
   "outputs": [
    {
     "data": {
      "text/html": [
       "<div>\n",
       "<style scoped>\n",
       "    .dataframe tbody tr th:only-of-type {\n",
       "        vertical-align: middle;\n",
       "    }\n",
       "\n",
       "    .dataframe tbody tr th {\n",
       "        vertical-align: top;\n",
       "    }\n",
       "\n",
       "    .dataframe thead th {\n",
       "        text-align: right;\n",
       "    }\n",
       "</style>\n",
       "<table border=\"1\" class=\"dataframe\">\n",
       "  <thead>\n",
       "    <tr style=\"text-align: right;\">\n",
       "      <th></th>\n",
       "      <th>iso_numeric</th>\n",
       "      <th>year</th>\n",
       "      <th>bmu</th>\n",
       "      <th>bmu_community_impl</th>\n",
       "      <th>community_data_available</th>\n",
       "      <th>bmu_ref_data</th>\n",
       "      <th>notified_ref</th>\n",
       "      <th>notified_ref_community</th>\n",
       "      <th>bmu_rxsupport_data</th>\n",
       "      <th>bmu_rxsupport_data_coh</th>\n",
       "      <th>rxsupport_community_coh</th>\n",
       "      <th>rxsupport_community_succ</th>\n",
       "    </tr>\n",
       "  </thead>\n",
       "  <tbody>\n",
       "    <tr>\n",
       "      <td>count</td>\n",
       "      <td>558.000000</td>\n",
       "      <td>558.000000</td>\n",
       "      <td>558.000000</td>\n",
       "      <td>558.000000</td>\n",
       "      <td>558.000000</td>\n",
       "      <td>558.000000</td>\n",
       "      <td>558.000000</td>\n",
       "      <td>558.000000</td>\n",
       "      <td>558.000000</td>\n",
       "      <td>5.580000e+02</td>\n",
       "      <td>558.000000</td>\n",
       "      <td>558.000000</td>\n",
       "    </tr>\n",
       "    <tr>\n",
       "      <td>mean</td>\n",
       "      <td>435.387097</td>\n",
       "      <td>2015.824373</td>\n",
       "      <td>423.885246</td>\n",
       "      <td>232.037879</td>\n",
       "      <td>0.549296</td>\n",
       "      <td>235.109489</td>\n",
       "      <td>40706.675277</td>\n",
       "      <td>7182.249012</td>\n",
       "      <td>297.073077</td>\n",
       "      <td>6.344111e+04</td>\n",
       "      <td>30194.145161</td>\n",
       "      <td>29002.339806</td>\n",
       "    </tr>\n",
       "    <tr>\n",
       "      <td>std</td>\n",
       "      <td>254.444353</td>\n",
       "      <td>1.557278</td>\n",
       "      <td>1025.580114</td>\n",
       "      <td>586.414187</td>\n",
       "      <td>0.435137</td>\n",
       "      <td>342.998607</td>\n",
       "      <td>68396.183520</td>\n",
       "      <td>11356.906715</td>\n",
       "      <td>560.306190</td>\n",
       "      <td>1.531440e+05</td>\n",
       "      <td>75296.353613</td>\n",
       "      <td>60548.638313</td>\n",
       "    </tr>\n",
       "    <tr>\n",
       "      <td>min</td>\n",
       "      <td>4.000000</td>\n",
       "      <td>2013.000000</td>\n",
       "      <td>0.000000</td>\n",
       "      <td>0.000000</td>\n",
       "      <td>0.000000</td>\n",
       "      <td>0.000000</td>\n",
       "      <td>0.000000</td>\n",
       "      <td>0.000000</td>\n",
       "      <td>0.000000</td>\n",
       "      <td>0.000000e+00</td>\n",
       "      <td>0.000000</td>\n",
       "      <td>0.000000</td>\n",
       "    </tr>\n",
       "    <tr>\n",
       "      <td>25%</td>\n",
       "      <td>218.000000</td>\n",
       "      <td>2015.000000</td>\n",
       "      <td>30.000000</td>\n",
       "      <td>18.000000</td>\n",
       "      <td>0.000000</td>\n",
       "      <td>63.000000</td>\n",
       "      <td>7373.500000</td>\n",
       "      <td>1062.500000</td>\n",
       "      <td>57.750000</td>\n",
       "      <td>1.615525e+04</td>\n",
       "      <td>2786.500000</td>\n",
       "      <td>4861.500000</td>\n",
       "    </tr>\n",
       "    <tr>\n",
       "      <td>50%</td>\n",
       "      <td>430.000000</td>\n",
       "      <td>2016.000000</td>\n",
       "      <td>128.000000</td>\n",
       "      <td>125.500000</td>\n",
       "      <td>0.549296</td>\n",
       "      <td>235.109489</td>\n",
       "      <td>40706.675277</td>\n",
       "      <td>7182.249012</td>\n",
       "      <td>297.073077</td>\n",
       "      <td>6.344111e+04</td>\n",
       "      <td>30194.145161</td>\n",
       "      <td>29002.339806</td>\n",
       "    </tr>\n",
       "    <tr>\n",
       "      <td>75%</td>\n",
       "      <td>645.250000</td>\n",
       "      <td>2017.000000</td>\n",
       "      <td>423.885246</td>\n",
       "      <td>232.037879</td>\n",
       "      <td>1.000000</td>\n",
       "      <td>235.109489</td>\n",
       "      <td>40706.675277</td>\n",
       "      <td>7182.249012</td>\n",
       "      <td>297.073077</td>\n",
       "      <td>6.344111e+04</td>\n",
       "      <td>30194.145161</td>\n",
       "      <td>29002.339806</td>\n",
       "    </tr>\n",
       "    <tr>\n",
       "      <td>max</td>\n",
       "      <td>894.000000</td>\n",
       "      <td>2018.000000</td>\n",
       "      <td>9746.000000</td>\n",
       "      <td>6819.000000</td>\n",
       "      <td>1.000000</td>\n",
       "      <td>4278.000000</td>\n",
       "      <td>687911.000000</td>\n",
       "      <td>123895.000000</td>\n",
       "      <td>6018.000000</td>\n",
       "      <td>1.983615e+06</td>\n",
       "      <td>803446.000000</td>\n",
       "      <td>655101.000000</td>\n",
       "    </tr>\n",
       "  </tbody>\n",
       "</table>\n",
       "</div>"
      ],
      "text/plain": [
       "       iso_numeric         year          bmu  bmu_community_impl  \\\n",
       "count   558.000000   558.000000   558.000000          558.000000   \n",
       "mean    435.387097  2015.824373   423.885246          232.037879   \n",
       "std     254.444353     1.557278  1025.580114          586.414187   \n",
       "min       4.000000  2013.000000     0.000000            0.000000   \n",
       "25%     218.000000  2015.000000    30.000000           18.000000   \n",
       "50%     430.000000  2016.000000   128.000000          125.500000   \n",
       "75%     645.250000  2017.000000   423.885246          232.037879   \n",
       "max     894.000000  2018.000000  9746.000000         6819.000000   \n",
       "\n",
       "       community_data_available  bmu_ref_data   notified_ref  \\\n",
       "count                558.000000    558.000000     558.000000   \n",
       "mean                   0.549296    235.109489   40706.675277   \n",
       "std                    0.435137    342.998607   68396.183520   \n",
       "min                    0.000000      0.000000       0.000000   \n",
       "25%                    0.000000     63.000000    7373.500000   \n",
       "50%                    0.549296    235.109489   40706.675277   \n",
       "75%                    1.000000    235.109489   40706.675277   \n",
       "max                    1.000000   4278.000000  687911.000000   \n",
       "\n",
       "       notified_ref_community  bmu_rxsupport_data  bmu_rxsupport_data_coh  \\\n",
       "count              558.000000          558.000000            5.580000e+02   \n",
       "mean              7182.249012          297.073077            6.344111e+04   \n",
       "std              11356.906715          560.306190            1.531440e+05   \n",
       "min                  0.000000            0.000000            0.000000e+00   \n",
       "25%               1062.500000           57.750000            1.615525e+04   \n",
       "50%               7182.249012          297.073077            6.344111e+04   \n",
       "75%               7182.249012          297.073077            6.344111e+04   \n",
       "max             123895.000000         6018.000000            1.983615e+06   \n",
       "\n",
       "       rxsupport_community_coh  rxsupport_community_succ  \n",
       "count               558.000000                558.000000  \n",
       "mean              30194.145161              29002.339806  \n",
       "std               75296.353613              60548.638313  \n",
       "min                   0.000000                  0.000000  \n",
       "25%                2786.500000               4861.500000  \n",
       "50%               30194.145161              29002.339806  \n",
       "75%               30194.145161              29002.339806  \n",
       "max              803446.000000             655101.000000  "
      ]
     },
     "execution_count": 68,
     "metadata": {},
     "output_type": "execute_result"
    }
   ],
   "source": [
    "dataset.describe()"
   ]
  },
  {
   "cell_type": "markdown",
   "metadata": {},
   "source": [
    "### Now, let's introduce you to the concept of joining and merging data or datasets using the \"pd.concat()\" function"
   ]
  },
  {
   "cell_type": "code",
   "execution_count": 69,
   "metadata": {},
   "outputs": [
    {
     "data": {
      "text/plain": [
       "      g_whoregion\n",
       "2013  AFR            29\n",
       "      EMR             2\n",
       "      EUR             8\n",
       "      SEA             6\n",
       "      WPR             4\n",
       "2014  AFR            39\n",
       "      AMR             3\n",
       "      EMR             6\n",
       "      EUR            11\n",
       "      SEA             9\n",
       "      WPR             7\n",
       "2015  AFR            42\n",
       "      AMR            17\n",
       "      EMR            13\n",
       "      EUR            20\n",
       "Name: year, dtype: int64"
      ]
     },
     "execution_count": 69,
     "metadata": {},
     "output_type": "execute_result"
    }
   ],
   "source": [
    "regions_concat = pd.concat([regions13,regions14,regions15,region16,regions17,regions18], keys = [\"2013\",\"2014\",\"2015\",\"2016\",\"2017\",\"2018\"])\n",
    "regions_concat.head(15)"
   ]
  },
  {
   "cell_type": "code",
   "execution_count": 70,
   "metadata": {},
   "outputs": [
    {
     "data": {
      "text/html": [
       "<div>\n",
       "<style scoped>\n",
       "    .dataframe tbody tr th:only-of-type {\n",
       "        vertical-align: middle;\n",
       "    }\n",
       "\n",
       "    .dataframe tbody tr th {\n",
       "        vertical-align: top;\n",
       "    }\n",
       "\n",
       "    .dataframe thead th {\n",
       "        text-align: right;\n",
       "    }\n",
       "</style>\n",
       "<table border=\"1\" class=\"dataframe\">\n",
       "  <thead>\n",
       "    <tr style=\"text-align: right;\">\n",
       "      <th></th>\n",
       "      <th>2013</th>\n",
       "      <th>2014</th>\n",
       "      <th>2015</th>\n",
       "      <th>2016</th>\n",
       "      <th>2017</th>\n",
       "      <th>2018</th>\n",
       "    </tr>\n",
       "    <tr>\n",
       "      <th>g_whoregion</th>\n",
       "      <th></th>\n",
       "      <th></th>\n",
       "      <th></th>\n",
       "      <th></th>\n",
       "      <th></th>\n",
       "      <th></th>\n",
       "    </tr>\n",
       "  </thead>\n",
       "  <tbody>\n",
       "    <tr>\n",
       "      <td>AFR</td>\n",
       "      <td>29.0</td>\n",
       "      <td>39.0</td>\n",
       "      <td>42.0</td>\n",
       "      <td>40.0</td>\n",
       "      <td>42.0</td>\n",
       "      <td>42.0</td>\n",
       "    </tr>\n",
       "    <tr>\n",
       "      <td>AMR</td>\n",
       "      <td>NaN</td>\n",
       "      <td>3.0</td>\n",
       "      <td>17.0</td>\n",
       "      <td>17.0</td>\n",
       "      <td>16.0</td>\n",
       "      <td>16.0</td>\n",
       "    </tr>\n",
       "    <tr>\n",
       "      <td>EMR</td>\n",
       "      <td>2.0</td>\n",
       "      <td>6.0</td>\n",
       "      <td>13.0</td>\n",
       "      <td>13.0</td>\n",
       "      <td>13.0</td>\n",
       "      <td>10.0</td>\n",
       "    </tr>\n",
       "    <tr>\n",
       "      <td>EUR</td>\n",
       "      <td>8.0</td>\n",
       "      <td>11.0</td>\n",
       "      <td>20.0</td>\n",
       "      <td>19.0</td>\n",
       "      <td>18.0</td>\n",
       "      <td>13.0</td>\n",
       "    </tr>\n",
       "    <tr>\n",
       "      <td>SEA</td>\n",
       "      <td>6.0</td>\n",
       "      <td>9.0</td>\n",
       "      <td>9.0</td>\n",
       "      <td>9.0</td>\n",
       "      <td>9.0</td>\n",
       "      <td>9.0</td>\n",
       "    </tr>\n",
       "    <tr>\n",
       "      <td>WPR</td>\n",
       "      <td>4.0</td>\n",
       "      <td>7.0</td>\n",
       "      <td>12.0</td>\n",
       "      <td>12.0</td>\n",
       "      <td>12.0</td>\n",
       "      <td>11.0</td>\n",
       "    </tr>\n",
       "  </tbody>\n",
       "</table>\n",
       "</div>"
      ],
      "text/plain": [
       "             2013  2014  2015  2016  2017  2018\n",
       "g_whoregion                                    \n",
       "AFR          29.0  39.0  42.0  40.0  42.0  42.0\n",
       "AMR           NaN   3.0  17.0  17.0  16.0  16.0\n",
       "EMR           2.0   6.0  13.0  13.0  13.0  10.0\n",
       "EUR           8.0  11.0  20.0  19.0  18.0  13.0\n",
       "SEA           6.0   9.0   9.0   9.0   9.0   9.0\n",
       "WPR           4.0   7.0  12.0  12.0  12.0  11.0"
      ]
     },
     "execution_count": 70,
     "metadata": {},
     "output_type": "execute_result"
    }
   ],
   "source": [
    "region_concat = regions_concat.unstack(0)\n",
    "region_concat"
   ]
  },
  {
   "cell_type": "markdown",
   "metadata": {},
   "source": [
    "### Just like we've done earlier, the concatenation process yields \" A Pandas Series Object\", and using the \"unstack()\" method, it's converted back to \"A Pandas DataFrame Object\". The details below"
   ]
  },
  {
   "cell_type": "code",
   "execution_count": 71,
   "metadata": {},
   "outputs": [
    {
     "data": {
      "text/plain": [
       "pandas.core.series.Series"
      ]
     },
     "execution_count": 71,
     "metadata": {},
     "output_type": "execute_result"
    }
   ],
   "source": [
    "type(regions_concat)"
   ]
  },
  {
   "cell_type": "code",
   "execution_count": 72,
   "metadata": {},
   "outputs": [
    {
     "data": {
      "text/plain": [
       "pandas.core.frame.DataFrame"
      ]
     },
     "execution_count": 72,
     "metadata": {},
     "output_type": "execute_result"
    }
   ],
   "source": [
    "type(region_concat)"
   ]
  },
  {
   "cell_type": "code",
   "execution_count": 73,
   "metadata": {
    "scrolled": true
   },
   "outputs": [
    {
     "data": {
      "text/html": [
       "<div>\n",
       "<style scoped>\n",
       "    .dataframe tbody tr th:only-of-type {\n",
       "        vertical-align: middle;\n",
       "    }\n",
       "\n",
       "    .dataframe tbody tr th {\n",
       "        vertical-align: top;\n",
       "    }\n",
       "\n",
       "    .dataframe thead th {\n",
       "        text-align: right;\n",
       "    }\n",
       "</style>\n",
       "<table border=\"1\" class=\"dataframe\">\n",
       "  <thead>\n",
       "    <tr style=\"text-align: right;\">\n",
       "      <th>Year</th>\n",
       "      <th>2013</th>\n",
       "      <th>2014</th>\n",
       "      <th>2015</th>\n",
       "      <th>2016</th>\n",
       "      <th>2017</th>\n",
       "      <th>2018</th>\n",
       "    </tr>\n",
       "    <tr>\n",
       "      <th>g_whoregion</th>\n",
       "      <th></th>\n",
       "      <th></th>\n",
       "      <th></th>\n",
       "      <th></th>\n",
       "      <th></th>\n",
       "      <th></th>\n",
       "    </tr>\n",
       "  </thead>\n",
       "  <tbody>\n",
       "    <tr>\n",
       "      <td>AFR</td>\n",
       "      <td>29.0</td>\n",
       "      <td>39.0</td>\n",
       "      <td>42.0</td>\n",
       "      <td>40.0</td>\n",
       "      <td>42.0</td>\n",
       "      <td>42.0</td>\n",
       "    </tr>\n",
       "    <tr>\n",
       "      <td>AMR</td>\n",
       "      <td>NaN</td>\n",
       "      <td>3.0</td>\n",
       "      <td>17.0</td>\n",
       "      <td>17.0</td>\n",
       "      <td>16.0</td>\n",
       "      <td>16.0</td>\n",
       "    </tr>\n",
       "    <tr>\n",
       "      <td>EMR</td>\n",
       "      <td>2.0</td>\n",
       "      <td>6.0</td>\n",
       "      <td>13.0</td>\n",
       "      <td>13.0</td>\n",
       "      <td>13.0</td>\n",
       "      <td>10.0</td>\n",
       "    </tr>\n",
       "    <tr>\n",
       "      <td>EUR</td>\n",
       "      <td>8.0</td>\n",
       "      <td>11.0</td>\n",
       "      <td>20.0</td>\n",
       "      <td>19.0</td>\n",
       "      <td>18.0</td>\n",
       "      <td>13.0</td>\n",
       "    </tr>\n",
       "    <tr>\n",
       "      <td>SEA</td>\n",
       "      <td>6.0</td>\n",
       "      <td>9.0</td>\n",
       "      <td>9.0</td>\n",
       "      <td>9.0</td>\n",
       "      <td>9.0</td>\n",
       "      <td>9.0</td>\n",
       "    </tr>\n",
       "    <tr>\n",
       "      <td>WPR</td>\n",
       "      <td>4.0</td>\n",
       "      <td>7.0</td>\n",
       "      <td>12.0</td>\n",
       "      <td>12.0</td>\n",
       "      <td>12.0</td>\n",
       "      <td>11.0</td>\n",
       "    </tr>\n",
       "  </tbody>\n",
       "</table>\n",
       "</div>"
      ],
      "text/plain": [
       "Year         2013  2014  2015  2016  2017  2018\n",
       "g_whoregion                                    \n",
       "AFR          29.0  39.0  42.0  40.0  42.0  42.0\n",
       "AMR           NaN   3.0  17.0  17.0  16.0  16.0\n",
       "EMR           2.0   6.0  13.0  13.0  13.0  10.0\n",
       "EUR           8.0  11.0  20.0  19.0  18.0  13.0\n",
       "SEA           6.0   9.0   9.0   9.0   9.0   9.0\n",
       "WPR           4.0   7.0  12.0  12.0  12.0  11.0"
      ]
     },
     "execution_count": 73,
     "metadata": {},
     "output_type": "execute_result"
    }
   ],
   "source": [
    "region_concat.columns.name = 'Year'\n",
    "region_concat"
   ]
  },
  {
   "cell_type": "code",
   "execution_count": 74,
   "metadata": {
    "scrolled": false
   },
   "outputs": [
    {
     "data": {
      "text/plain": [
       "<matplotlib.legend.Legend at 0x98ec5850>"
      ]
     },
     "execution_count": 74,
     "metadata": {},
     "output_type": "execute_result"
    },
    {
     "data": {
      "image/png": "[encoded data removed]",
      "text/plain": [
       "<Figure size 432x288 with 1 Axes>"
      ]
     },
     "metadata": {
      "needs_background": "light"
     },
     "output_type": "display_data"
    }
   ],
   "source": [
    "new_region = region_concat.T\n",
    "new_region.plot(marker = '*')\n",
    "plt.legend(ncol = 1, loc = (1, 0.57))"
   ]
  },
  {
   "cell_type": "code",
   "execution_count": 75,
   "metadata": {},
   "outputs": [
    {
     "data": {
      "text/plain": [
       "<matplotlib.legend.Legend at 0x98ece270>"
      ]
     },
     "execution_count": 75,
     "metadata": {},
     "output_type": "execute_result"
    },
    {
     "data": {
      "image/png": "[encoded data removed]",
      "text/plain": [
       "<Figure size 432x288 with 1 Axes>"
      ]
     },
     "metadata": {
      "needs_background": "light"
     },
     "output_type": "display_data"
    }
   ],
   "source": [
    "new_region.plot(kind = \"barh\")\n",
    "plt.legend(ncol = 1, loc = (1, 0.575))"
   ]
  },
  {
   "cell_type": "markdown",
   "metadata": {},
   "source": [
    "### At this juncture I'll leave you to work more on your own and make new discoveries. Python is an amazing programming language with unlimited possibilities to what you can do with it's range of Data Science libraries"
   ]
  },
  {
   "cell_type": "markdown",
   "metadata": {},
   "source": [
    "### Remember, the best way to learn is by doing, so\n",
    "\n",
    "# Practice! Practice!! Practice!!!"
   ]
  },
  {
   "cell_type": "markdown",
   "metadata": {},
   "source": [
    "### And remember to feel encouraged no matter what your progress seems like. With a couple of practice and your commitment, all of the process will come naturally with ease.\n",
    "\n",
    "### Just keep doing it and improve on your abilities."
   ]
  },
  {
   "cell_type": "markdown",
   "metadata": {},
   "source": [
    "### Keep Practicing at your best \n",
    "\n",
    "\n",
    "# Happy Learning !"
   ]
  },
  {
   "cell_type": "code",
   "execution_count": null,
   "metadata": {},
   "outputs": [],
   "source": []
  },
  {
   "cell_type": "code",
   "execution_count": null,
   "metadata": {},
   "outputs": [],
   "source": []
  }
 ],
 "metadata": {
  "kernelspec": {
   "display_name": "Python 3",
   "language": "python",
   "name": "python3"
  },
  "language_info": {
   "codemirror_mode": {
    "name": "ipython",
    "version": 3
   },
   "file_extension": ".py",
   "mimetype": "text/x-python",
   "name": "python",
   "nbconvert_exporter": "python",
   "pygments_lexer": "ipython3",
   "version": "3.7.2"
  }
 },
 "nbformat": 4,
 "nbformat_minor": 4
}
